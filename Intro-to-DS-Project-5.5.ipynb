{
 "cells": [
  {
   "cell_type": "markdown",
   "metadata": {},
   "source": [
    "# RAIN AUSTRALIA PREDICTION"
   ]
  },
  {
   "cell_type": "markdown",
   "metadata": {},
   "source": [
    "# PROBLEM STATEMENT"
   ]
  },
  {
   "attachments": {},
   "cell_type": "markdown",
   "metadata": {},
   "source": [
    "The ability to anticipate rain is a crucial component of weather forecasting that has an impact on a number of sectors, including transportation, agriculture, and urban planning. Due to the complicated interaction of weather variables like MinTemp, MaxTemp, Rainfall, Evaporation, Sunshine, WindGustSpeed, WindSpeed9am, WindSpeed3pm, Humidity9am, Humidity3pm, Pressure9am, Pressure3pm, Cloud9am, Cloud3pm, Temp9am, Temp3pm, RainToday, and RainTomorrow, traditional meteorological models frequently struggle to predict rain with accuracy.\n",
    "\n",
    "The objective of this data science project is to create a machine learning-based rain prediction model that uses previous weather data and these characteristics to precisely predict whether it will rain today (RainToday) and the next day (RainTomorrow). To obtain the best level of accuracy in rain prediction, the project will require studying and analysing various features, choosing suitable machine learning methods, and optimising model performance. The effective application of such a model would have substantial effects on enhancing decision-making in transportation, urban planning, and agriculture, as well as on empowering stakeholders to make decisions based on accurate rain forecast data."
   ]
  },
  {
   "attachments": {},
   "cell_type": "markdown",
   "metadata": {},
   "source": [
    "This project is another simple approach, which helps predicting of rain occurrence using 22 characteristics: \n",
    "\n",
    "* MinTemp: Minimum recorded temperature (°C)\n",
    "* MaxTemp: Maximum recorded temperature (°C)\n",
    "* Rainfall: Amount of rainfall (mm)\n",
    "* Evaporation: Water evaporation (mm)\n",
    "* Sunshine: Hours of sunshine\n",
    "* WindGustSpeed: Maximum wind gust speed (km/h)\n",
    "* WindSpeed9am: Average wind speed at 9 a.m. (km/h)\n",
    "* WindSpeed3pm: Average wind speed at 3 p.m. (km/h)\n",
    "* Humidity9am: Relative humidity at 9 a.m. (%)\n",
    "* Humidity3pm: Relative humidity at 3 p.m. (%)\n",
    "* Pressure9am: Atmospheric pressure at 9 a.m. (hPa)\n",
    "* Pressure3pm: Atmospheric pressure at 3 p.m. (hPa)\n",
    "* Cloud9am: Cloud cover at 9 a.m. (oktas)\n",
    "* Cloud3pm: Cloud cover at 3 p.m. (oktas)\n",
    "* Temp9am: Temperature at 9 a.m. (°C)\n",
    "* Temp3pm: Temperature at 3 p.m. (°C)\n",
    "* RainToday: Whether rain occurred today (Yes/No)\n",
    "* RainTomorrow: Whether rain will occur tomorrow (Yes/No)"
   ]
  },
  {
   "cell_type": "markdown",
   "metadata": {},
   "source": [
    "# SOURCES"
   ]
  },
  {
   "cell_type": "markdown",
   "metadata": {},
   "source": [
    "You can downloaded from this address:https://www.kaggle.com/datasets/jsphyg/weather-dataset-rattle-package"
   ]
  },
  {
   "cell_type": "markdown",
   "metadata": {},
   "source": [
    "# PROBLEM APPROACH"
   ]
  },
  {
   "cell_type": "markdown",
   "metadata": {},
   "source": [
    "**The type of dataset and problem is a classic supervised binary classification**"
   ]
  },
  {
   "attachments": {},
   "cell_type": "markdown",
   "metadata": {},
   "source": [
    "We want to create a machine learning model that can forecast the weather using 145460 items that have a common set of properties.\n",
    "In order to solve the issue, we must first inspect the data before cleaning it, performing any necessary transformations and normalization, applying machine learning algorithms, and using cross validation. After identifying the best model, we train it, reset the parameter, and in this project since the Logistic Regression is the best model, we modify the threshold and choose which penalty (Ridge/Lasso) is most effective to avoid overfitting. After that, use \"made-up\" data to evaluate the performance of the final model."
   ]
  },
  {
   "cell_type": "markdown",
   "metadata": {},
   "source": [
    "# OUTLINE"
   ]
  },
  {
   "attachments": {},
   "cell_type": "markdown",
   "metadata": {},
   "source": [
    "***I) DATA INSPECTION:***\n",
    "1. Import library\n",
    "2. General Description\n",
    "    1. Target encoding\n",
    "    2. Basic Statistical Summary\n",
    "    3. Correlation Matrix\n",
    "    4. Heat map\n",
    "3. Visualization of dataset\n",
    "\n",
    "***II) DATA CLEANING AND TRANSFORMATION***\n",
    "\n",
    "1. Dealing with missing values\n",
    "    1. Missing Categorical Values\n",
    "    2. Missing Numerical Values\n",
    "2. Label encoding with the categorical values\n",
    "3. Feature Scaling\n",
    "4. Detect and Dropping Outliers\n",
    "    1. Outliers Visualization\n",
    "    2. Drop the outliers\n",
    "    3. Create new index\n",
    "\n",
    "***III) EXPLORATORY DATA ANALYSIS (after cleaning)***\n",
    "\n",
    "1. Univariate data analysis (RainTomorrow, Location, WindGustDir, WindDir9am, WindDir3pm, RainToday)\n",
    "    1. Check for missing values\n",
    "    2. View number of values\n",
    "2. Multivariate data analysis\n",
    "    1. Heat map\n",
    "    2. Pair plot\n",
    "\n",
    "\n",
    "***IV) TESTING MULTIPLE MODELS***\n",
    "\n",
    "1) SPLITTING THE DATASET\n",
    "\n",
    "2) BUILDING AND TESTING MODEL\n",
    "\n",
    "***V) BUILDING THE BEST MODEL FOR PREDICTION***\n",
    "\n",
    "1) ANALYSIS OF 2 MODELS: CONFUSION MATRIX AND CLASSIFICATION REPORT\n",
    "\n",
    "2) FINDING THE BEST MODEL:\n",
    "\n",
    "A- LINEAR DISCRIMINANT ANALYSIS\n",
    "\n",
    "B- LOGISTIC REGRESSION: a) Avoid Overfitting with penalty, b) Best parameter\n",
    "\n",
    "3) APPLY NEW PARAMETER AND TRAIN IT\n",
    "\n",
    "4) MODIFY THE THRESHOLD\n",
    "\n",
    "***VI) MAKE PREDICTION***\n",
    "\n",
    "***VII) CONCLUSION***"
   ]
  },
  {
   "cell_type": "markdown",
   "metadata": {},
   "source": [
    "# I) DATA INSPECTION"
   ]
  },
  {
   "attachments": {},
   "cell_type": "markdown",
   "metadata": {},
   "source": [
    "### 1) IMPORT LIBRARIES "
   ]
  },
  {
   "cell_type": "code",
   "execution_count": 51,
   "metadata": {},
   "outputs": [],
   "source": [
    "#This is the import section where we are importing the required libraries for our code\n",
    "\n",
    "import matplotlib.pyplot as plt #data visualization\n",
    "import numpy as np # numerical operations\n",
    "import pandas as pd # data manipulation\n",
    "import sklearn.linear_model # linear regression modeling."
   ]
  },
  {
   "cell_type": "code",
   "execution_count": 52,
   "metadata": {},
   "outputs": [],
   "source": [
    "rain_df = pd.read_csv('weatherAUS.csv')"
   ]
  },
  {
   "cell_type": "code",
   "execution_count": 53,
   "metadata": {
    "scrolled": true
   },
   "outputs": [
    {
     "data": {
      "text/html": [
       "<div>\n",
       "<style scoped>\n",
       "    .dataframe tbody tr th:only-of-type {\n",
       "        vertical-align: middle;\n",
       "    }\n",
       "\n",
       "    .dataframe tbody tr th {\n",
       "        vertical-align: top;\n",
       "    }\n",
       "\n",
       "    .dataframe thead th {\n",
       "        text-align: right;\n",
       "    }\n",
       "</style>\n",
       "<table border=\"1\" class=\"dataframe\">\n",
       "  <thead>\n",
       "    <tr style=\"text-align: right;\">\n",
       "      <th></th>\n",
       "      <th>Date</th>\n",
       "      <th>Location</th>\n",
       "      <th>MinTemp</th>\n",
       "      <th>MaxTemp</th>\n",
       "      <th>Rainfall</th>\n",
       "      <th>Evaporation</th>\n",
       "      <th>Sunshine</th>\n",
       "      <th>WindGustDir</th>\n",
       "      <th>WindGustSpeed</th>\n",
       "      <th>WindDir9am</th>\n",
       "      <th>...</th>\n",
       "      <th>Humidity9am</th>\n",
       "      <th>Humidity3pm</th>\n",
       "      <th>Pressure9am</th>\n",
       "      <th>Pressure3pm</th>\n",
       "      <th>Cloud9am</th>\n",
       "      <th>Cloud3pm</th>\n",
       "      <th>Temp9am</th>\n",
       "      <th>Temp3pm</th>\n",
       "      <th>RainToday</th>\n",
       "      <th>RainTomorrow</th>\n",
       "    </tr>\n",
       "  </thead>\n",
       "  <tbody>\n",
       "    <tr>\n",
       "      <th>0</th>\n",
       "      <td>2008-12-01</td>\n",
       "      <td>Albury</td>\n",
       "      <td>13.4</td>\n",
       "      <td>22.9</td>\n",
       "      <td>0.6</td>\n",
       "      <td>NaN</td>\n",
       "      <td>NaN</td>\n",
       "      <td>W</td>\n",
       "      <td>44.0</td>\n",
       "      <td>W</td>\n",
       "      <td>...</td>\n",
       "      <td>71.0</td>\n",
       "      <td>22.0</td>\n",
       "      <td>1007.7</td>\n",
       "      <td>1007.1</td>\n",
       "      <td>8.0</td>\n",
       "      <td>NaN</td>\n",
       "      <td>16.9</td>\n",
       "      <td>21.8</td>\n",
       "      <td>No</td>\n",
       "      <td>No</td>\n",
       "    </tr>\n",
       "    <tr>\n",
       "      <th>1</th>\n",
       "      <td>2008-12-02</td>\n",
       "      <td>Albury</td>\n",
       "      <td>7.4</td>\n",
       "      <td>25.1</td>\n",
       "      <td>0.0</td>\n",
       "      <td>NaN</td>\n",
       "      <td>NaN</td>\n",
       "      <td>WNW</td>\n",
       "      <td>44.0</td>\n",
       "      <td>NNW</td>\n",
       "      <td>...</td>\n",
       "      <td>44.0</td>\n",
       "      <td>25.0</td>\n",
       "      <td>1010.6</td>\n",
       "      <td>1007.8</td>\n",
       "      <td>NaN</td>\n",
       "      <td>NaN</td>\n",
       "      <td>17.2</td>\n",
       "      <td>24.3</td>\n",
       "      <td>No</td>\n",
       "      <td>No</td>\n",
       "    </tr>\n",
       "    <tr>\n",
       "      <th>2</th>\n",
       "      <td>2008-12-03</td>\n",
       "      <td>Albury</td>\n",
       "      <td>12.9</td>\n",
       "      <td>25.7</td>\n",
       "      <td>0.0</td>\n",
       "      <td>NaN</td>\n",
       "      <td>NaN</td>\n",
       "      <td>WSW</td>\n",
       "      <td>46.0</td>\n",
       "      <td>W</td>\n",
       "      <td>...</td>\n",
       "      <td>38.0</td>\n",
       "      <td>30.0</td>\n",
       "      <td>1007.6</td>\n",
       "      <td>1008.7</td>\n",
       "      <td>NaN</td>\n",
       "      <td>2.0</td>\n",
       "      <td>21.0</td>\n",
       "      <td>23.2</td>\n",
       "      <td>No</td>\n",
       "      <td>No</td>\n",
       "    </tr>\n",
       "    <tr>\n",
       "      <th>3</th>\n",
       "      <td>2008-12-04</td>\n",
       "      <td>Albury</td>\n",
       "      <td>9.2</td>\n",
       "      <td>28.0</td>\n",
       "      <td>0.0</td>\n",
       "      <td>NaN</td>\n",
       "      <td>NaN</td>\n",
       "      <td>NE</td>\n",
       "      <td>24.0</td>\n",
       "      <td>SE</td>\n",
       "      <td>...</td>\n",
       "      <td>45.0</td>\n",
       "      <td>16.0</td>\n",
       "      <td>1017.6</td>\n",
       "      <td>1012.8</td>\n",
       "      <td>NaN</td>\n",
       "      <td>NaN</td>\n",
       "      <td>18.1</td>\n",
       "      <td>26.5</td>\n",
       "      <td>No</td>\n",
       "      <td>No</td>\n",
       "    </tr>\n",
       "    <tr>\n",
       "      <th>4</th>\n",
       "      <td>2008-12-05</td>\n",
       "      <td>Albury</td>\n",
       "      <td>17.5</td>\n",
       "      <td>32.3</td>\n",
       "      <td>1.0</td>\n",
       "      <td>NaN</td>\n",
       "      <td>NaN</td>\n",
       "      <td>W</td>\n",
       "      <td>41.0</td>\n",
       "      <td>ENE</td>\n",
       "      <td>...</td>\n",
       "      <td>82.0</td>\n",
       "      <td>33.0</td>\n",
       "      <td>1010.8</td>\n",
       "      <td>1006.0</td>\n",
       "      <td>7.0</td>\n",
       "      <td>8.0</td>\n",
       "      <td>17.8</td>\n",
       "      <td>29.7</td>\n",
       "      <td>No</td>\n",
       "      <td>No</td>\n",
       "    </tr>\n",
       "    <tr>\n",
       "      <th>...</th>\n",
       "      <td>...</td>\n",
       "      <td>...</td>\n",
       "      <td>...</td>\n",
       "      <td>...</td>\n",
       "      <td>...</td>\n",
       "      <td>...</td>\n",
       "      <td>...</td>\n",
       "      <td>...</td>\n",
       "      <td>...</td>\n",
       "      <td>...</td>\n",
       "      <td>...</td>\n",
       "      <td>...</td>\n",
       "      <td>...</td>\n",
       "      <td>...</td>\n",
       "      <td>...</td>\n",
       "      <td>...</td>\n",
       "      <td>...</td>\n",
       "      <td>...</td>\n",
       "      <td>...</td>\n",
       "      <td>...</td>\n",
       "      <td>...</td>\n",
       "    </tr>\n",
       "    <tr>\n",
       "      <th>145455</th>\n",
       "      <td>2017-06-21</td>\n",
       "      <td>Uluru</td>\n",
       "      <td>2.8</td>\n",
       "      <td>23.4</td>\n",
       "      <td>0.0</td>\n",
       "      <td>NaN</td>\n",
       "      <td>NaN</td>\n",
       "      <td>E</td>\n",
       "      <td>31.0</td>\n",
       "      <td>SE</td>\n",
       "      <td>...</td>\n",
       "      <td>51.0</td>\n",
       "      <td>24.0</td>\n",
       "      <td>1024.6</td>\n",
       "      <td>1020.3</td>\n",
       "      <td>NaN</td>\n",
       "      <td>NaN</td>\n",
       "      <td>10.1</td>\n",
       "      <td>22.4</td>\n",
       "      <td>No</td>\n",
       "      <td>No</td>\n",
       "    </tr>\n",
       "    <tr>\n",
       "      <th>145456</th>\n",
       "      <td>2017-06-22</td>\n",
       "      <td>Uluru</td>\n",
       "      <td>3.6</td>\n",
       "      <td>25.3</td>\n",
       "      <td>0.0</td>\n",
       "      <td>NaN</td>\n",
       "      <td>NaN</td>\n",
       "      <td>NNW</td>\n",
       "      <td>22.0</td>\n",
       "      <td>SE</td>\n",
       "      <td>...</td>\n",
       "      <td>56.0</td>\n",
       "      <td>21.0</td>\n",
       "      <td>1023.5</td>\n",
       "      <td>1019.1</td>\n",
       "      <td>NaN</td>\n",
       "      <td>NaN</td>\n",
       "      <td>10.9</td>\n",
       "      <td>24.5</td>\n",
       "      <td>No</td>\n",
       "      <td>No</td>\n",
       "    </tr>\n",
       "    <tr>\n",
       "      <th>145457</th>\n",
       "      <td>2017-06-23</td>\n",
       "      <td>Uluru</td>\n",
       "      <td>5.4</td>\n",
       "      <td>26.9</td>\n",
       "      <td>0.0</td>\n",
       "      <td>NaN</td>\n",
       "      <td>NaN</td>\n",
       "      <td>N</td>\n",
       "      <td>37.0</td>\n",
       "      <td>SE</td>\n",
       "      <td>...</td>\n",
       "      <td>53.0</td>\n",
       "      <td>24.0</td>\n",
       "      <td>1021.0</td>\n",
       "      <td>1016.8</td>\n",
       "      <td>NaN</td>\n",
       "      <td>NaN</td>\n",
       "      <td>12.5</td>\n",
       "      <td>26.1</td>\n",
       "      <td>No</td>\n",
       "      <td>No</td>\n",
       "    </tr>\n",
       "    <tr>\n",
       "      <th>145458</th>\n",
       "      <td>2017-06-24</td>\n",
       "      <td>Uluru</td>\n",
       "      <td>7.8</td>\n",
       "      <td>27.0</td>\n",
       "      <td>0.0</td>\n",
       "      <td>NaN</td>\n",
       "      <td>NaN</td>\n",
       "      <td>SE</td>\n",
       "      <td>28.0</td>\n",
       "      <td>SSE</td>\n",
       "      <td>...</td>\n",
       "      <td>51.0</td>\n",
       "      <td>24.0</td>\n",
       "      <td>1019.4</td>\n",
       "      <td>1016.5</td>\n",
       "      <td>3.0</td>\n",
       "      <td>2.0</td>\n",
       "      <td>15.1</td>\n",
       "      <td>26.0</td>\n",
       "      <td>No</td>\n",
       "      <td>No</td>\n",
       "    </tr>\n",
       "    <tr>\n",
       "      <th>145459</th>\n",
       "      <td>2017-06-25</td>\n",
       "      <td>Uluru</td>\n",
       "      <td>14.9</td>\n",
       "      <td>NaN</td>\n",
       "      <td>0.0</td>\n",
       "      <td>NaN</td>\n",
       "      <td>NaN</td>\n",
       "      <td>NaN</td>\n",
       "      <td>NaN</td>\n",
       "      <td>ESE</td>\n",
       "      <td>...</td>\n",
       "      <td>62.0</td>\n",
       "      <td>36.0</td>\n",
       "      <td>1020.2</td>\n",
       "      <td>1017.9</td>\n",
       "      <td>8.0</td>\n",
       "      <td>8.0</td>\n",
       "      <td>15.0</td>\n",
       "      <td>20.9</td>\n",
       "      <td>No</td>\n",
       "      <td>NaN</td>\n",
       "    </tr>\n",
       "  </tbody>\n",
       "</table>\n",
       "<p>145460 rows × 23 columns</p>\n",
       "</div>"
      ],
      "text/plain": [
       "              Date Location  MinTemp  MaxTemp  Rainfall  Evaporation  \\\n",
       "0       2008-12-01   Albury     13.4     22.9       0.6          NaN   \n",
       "1       2008-12-02   Albury      7.4     25.1       0.0          NaN   \n",
       "2       2008-12-03   Albury     12.9     25.7       0.0          NaN   \n",
       "3       2008-12-04   Albury      9.2     28.0       0.0          NaN   \n",
       "4       2008-12-05   Albury     17.5     32.3       1.0          NaN   \n",
       "...            ...      ...      ...      ...       ...          ...   \n",
       "145455  2017-06-21    Uluru      2.8     23.4       0.0          NaN   \n",
       "145456  2017-06-22    Uluru      3.6     25.3       0.0          NaN   \n",
       "145457  2017-06-23    Uluru      5.4     26.9       0.0          NaN   \n",
       "145458  2017-06-24    Uluru      7.8     27.0       0.0          NaN   \n",
       "145459  2017-06-25    Uluru     14.9      NaN       0.0          NaN   \n",
       "\n",
       "        Sunshine WindGustDir  WindGustSpeed WindDir9am  ... Humidity9am  \\\n",
       "0            NaN           W           44.0          W  ...        71.0   \n",
       "1            NaN         WNW           44.0        NNW  ...        44.0   \n",
       "2            NaN         WSW           46.0          W  ...        38.0   \n",
       "3            NaN          NE           24.0         SE  ...        45.0   \n",
       "4            NaN           W           41.0        ENE  ...        82.0   \n",
       "...          ...         ...            ...        ...  ...         ...   \n",
       "145455       NaN           E           31.0         SE  ...        51.0   \n",
       "145456       NaN         NNW           22.0         SE  ...        56.0   \n",
       "145457       NaN           N           37.0         SE  ...        53.0   \n",
       "145458       NaN          SE           28.0        SSE  ...        51.0   \n",
       "145459       NaN         NaN            NaN        ESE  ...        62.0   \n",
       "\n",
       "        Humidity3pm  Pressure9am  Pressure3pm  Cloud9am  Cloud3pm  Temp9am  \\\n",
       "0              22.0       1007.7       1007.1       8.0       NaN     16.9   \n",
       "1              25.0       1010.6       1007.8       NaN       NaN     17.2   \n",
       "2              30.0       1007.6       1008.7       NaN       2.0     21.0   \n",
       "3              16.0       1017.6       1012.8       NaN       NaN     18.1   \n",
       "4              33.0       1010.8       1006.0       7.0       8.0     17.8   \n",
       "...             ...          ...          ...       ...       ...      ...   \n",
       "145455         24.0       1024.6       1020.3       NaN       NaN     10.1   \n",
       "145456         21.0       1023.5       1019.1       NaN       NaN     10.9   \n",
       "145457         24.0       1021.0       1016.8       NaN       NaN     12.5   \n",
       "145458         24.0       1019.4       1016.5       3.0       2.0     15.1   \n",
       "145459         36.0       1020.2       1017.9       8.0       8.0     15.0   \n",
       "\n",
       "        Temp3pm  RainToday  RainTomorrow  \n",
       "0          21.8         No            No  \n",
       "1          24.3         No            No  \n",
       "2          23.2         No            No  \n",
       "3          26.5         No            No  \n",
       "4          29.7         No            No  \n",
       "...         ...        ...           ...  \n",
       "145455     22.4         No            No  \n",
       "145456     24.5         No            No  \n",
       "145457     26.1         No            No  \n",
       "145458     26.0         No            No  \n",
       "145459     20.9         No           NaN  \n",
       "\n",
       "[145460 rows x 23 columns]"
      ]
     },
     "execution_count": 53,
     "metadata": {},
     "output_type": "execute_result"
    }
   ],
   "source": [
    "#Showing the dataframe\n",
    "rain_df"
   ]
  },
  {
   "attachments": {},
   "cell_type": "markdown",
   "metadata": {},
   "source": [
    "### 2) GENERAL DESCRIPTIONS"
   ]
  },
  {
   "cell_type": "code",
   "execution_count": 54,
   "metadata": {
    "scrolled": true
   },
   "outputs": [
    {
     "data": {
      "text/plain": [
       "(145460, 23)"
      ]
     },
     "execution_count": 54,
     "metadata": {},
     "output_type": "execute_result"
    }
   ],
   "source": [
    "rain_df.shape"
   ]
  },
  {
   "attachments": {},
   "cell_type": "markdown",
   "metadata": {},
   "source": [
    "(145460, 23) means dataset includes 145460 datapoints with 23 features (attributes)\n",
    "\n",
    "The last attribute ('RainTomorrow') is the target column (supervised label)"
   ]
  },
  {
   "attachments": {},
   "cell_type": "markdown",
   "metadata": {},
   "source": [
    "##### Target encoding"
   ]
  },
  {
   "cell_type": "markdown",
   "metadata": {},
   "source": [
    "This code replaces the values \"Yes\" and \"No\" in the 'RainTomorrow' column of the 'rain_df' dataframe with the numerical values 1 and 0 \n",
    "respectively, using a dictionary mapping. The 'inplace=True' argument makes the changes to the dataframe directly."
   ]
  },
  {
   "cell_type": "code",
   "execution_count": 56,
   "metadata": {},
   "outputs": [],
   "source": [
    "\n",
    "mapping = {\"Yes\": 1, \"No\": 0}\n",
    "\n",
    "rain_df.replace(mapping, inplace=True)"
   ]
  },
  {
   "attachments": {},
   "cell_type": "markdown",
   "metadata": {},
   "source": [
    "##### Basic Statistical Summary"
   ]
  },
  {
   "cell_type": "code",
   "execution_count": 57,
   "metadata": {},
   "outputs": [
    {
     "data": {
      "text/html": [
       "<div>\n",
       "<style scoped>\n",
       "    .dataframe tbody tr th:only-of-type {\n",
       "        vertical-align: middle;\n",
       "    }\n",
       "\n",
       "    .dataframe tbody tr th {\n",
       "        vertical-align: top;\n",
       "    }\n",
       "\n",
       "    .dataframe thead th {\n",
       "        text-align: right;\n",
       "    }\n",
       "</style>\n",
       "<table border=\"1\" class=\"dataframe\">\n",
       "  <thead>\n",
       "    <tr style=\"text-align: right;\">\n",
       "      <th></th>\n",
       "      <th>MinTemp</th>\n",
       "      <th>MaxTemp</th>\n",
       "      <th>Rainfall</th>\n",
       "      <th>Evaporation</th>\n",
       "      <th>Sunshine</th>\n",
       "      <th>WindGustSpeed</th>\n",
       "      <th>WindSpeed9am</th>\n",
       "      <th>WindSpeed3pm</th>\n",
       "      <th>Humidity9am</th>\n",
       "      <th>Humidity3pm</th>\n",
       "      <th>Pressure9am</th>\n",
       "      <th>Pressure3pm</th>\n",
       "      <th>Cloud9am</th>\n",
       "      <th>Cloud3pm</th>\n",
       "      <th>Temp9am</th>\n",
       "      <th>Temp3pm</th>\n",
       "      <th>RainToday</th>\n",
       "      <th>RainTomorrow</th>\n",
       "    </tr>\n",
       "  </thead>\n",
       "  <tbody>\n",
       "    <tr>\n",
       "      <th>count</th>\n",
       "      <td>143975.00</td>\n",
       "      <td>144199.00</td>\n",
       "      <td>142199.00</td>\n",
       "      <td>82670.00</td>\n",
       "      <td>75625.00</td>\n",
       "      <td>135197.00</td>\n",
       "      <td>143693.00</td>\n",
       "      <td>142398.00</td>\n",
       "      <td>142806.00</td>\n",
       "      <td>140953.00</td>\n",
       "      <td>130395.00</td>\n",
       "      <td>130432.00</td>\n",
       "      <td>89572.00</td>\n",
       "      <td>86102.00</td>\n",
       "      <td>143693.00</td>\n",
       "      <td>141851.00</td>\n",
       "      <td>142199.00</td>\n",
       "      <td>142193.00</td>\n",
       "    </tr>\n",
       "    <tr>\n",
       "      <th>mean</th>\n",
       "      <td>12.19</td>\n",
       "      <td>23.22</td>\n",
       "      <td>2.36</td>\n",
       "      <td>5.47</td>\n",
       "      <td>7.61</td>\n",
       "      <td>40.04</td>\n",
       "      <td>14.04</td>\n",
       "      <td>18.66</td>\n",
       "      <td>68.88</td>\n",
       "      <td>51.54</td>\n",
       "      <td>1017.65</td>\n",
       "      <td>1015.26</td>\n",
       "      <td>4.45</td>\n",
       "      <td>4.51</td>\n",
       "      <td>16.99</td>\n",
       "      <td>21.68</td>\n",
       "      <td>0.22</td>\n",
       "      <td>0.22</td>\n",
       "    </tr>\n",
       "    <tr>\n",
       "      <th>std</th>\n",
       "      <td>6.40</td>\n",
       "      <td>7.12</td>\n",
       "      <td>8.48</td>\n",
       "      <td>4.19</td>\n",
       "      <td>3.79</td>\n",
       "      <td>13.61</td>\n",
       "      <td>8.92</td>\n",
       "      <td>8.81</td>\n",
       "      <td>19.03</td>\n",
       "      <td>20.80</td>\n",
       "      <td>7.11</td>\n",
       "      <td>7.04</td>\n",
       "      <td>2.89</td>\n",
       "      <td>2.72</td>\n",
       "      <td>6.49</td>\n",
       "      <td>6.94</td>\n",
       "      <td>0.42</td>\n",
       "      <td>0.42</td>\n",
       "    </tr>\n",
       "    <tr>\n",
       "      <th>min</th>\n",
       "      <td>-8.50</td>\n",
       "      <td>-4.80</td>\n",
       "      <td>0.00</td>\n",
       "      <td>0.00</td>\n",
       "      <td>0.00</td>\n",
       "      <td>6.00</td>\n",
       "      <td>0.00</td>\n",
       "      <td>0.00</td>\n",
       "      <td>0.00</td>\n",
       "      <td>0.00</td>\n",
       "      <td>980.50</td>\n",
       "      <td>977.10</td>\n",
       "      <td>0.00</td>\n",
       "      <td>0.00</td>\n",
       "      <td>-7.20</td>\n",
       "      <td>-5.40</td>\n",
       "      <td>0.00</td>\n",
       "      <td>0.00</td>\n",
       "    </tr>\n",
       "    <tr>\n",
       "      <th>25%</th>\n",
       "      <td>7.60</td>\n",
       "      <td>17.90</td>\n",
       "      <td>0.00</td>\n",
       "      <td>2.60</td>\n",
       "      <td>4.80</td>\n",
       "      <td>31.00</td>\n",
       "      <td>7.00</td>\n",
       "      <td>13.00</td>\n",
       "      <td>57.00</td>\n",
       "      <td>37.00</td>\n",
       "      <td>1012.90</td>\n",
       "      <td>1010.40</td>\n",
       "      <td>1.00</td>\n",
       "      <td>2.00</td>\n",
       "      <td>12.30</td>\n",
       "      <td>16.60</td>\n",
       "      <td>0.00</td>\n",
       "      <td>0.00</td>\n",
       "    </tr>\n",
       "    <tr>\n",
       "      <th>50%</th>\n",
       "      <td>12.00</td>\n",
       "      <td>22.60</td>\n",
       "      <td>0.00</td>\n",
       "      <td>4.80</td>\n",
       "      <td>8.40</td>\n",
       "      <td>39.00</td>\n",
       "      <td>13.00</td>\n",
       "      <td>19.00</td>\n",
       "      <td>70.00</td>\n",
       "      <td>52.00</td>\n",
       "      <td>1017.60</td>\n",
       "      <td>1015.20</td>\n",
       "      <td>5.00</td>\n",
       "      <td>5.00</td>\n",
       "      <td>16.70</td>\n",
       "      <td>21.10</td>\n",
       "      <td>0.00</td>\n",
       "      <td>0.00</td>\n",
       "    </tr>\n",
       "    <tr>\n",
       "      <th>75%</th>\n",
       "      <td>16.90</td>\n",
       "      <td>28.20</td>\n",
       "      <td>0.80</td>\n",
       "      <td>7.40</td>\n",
       "      <td>10.60</td>\n",
       "      <td>48.00</td>\n",
       "      <td>19.00</td>\n",
       "      <td>24.00</td>\n",
       "      <td>83.00</td>\n",
       "      <td>66.00</td>\n",
       "      <td>1022.40</td>\n",
       "      <td>1020.00</td>\n",
       "      <td>7.00</td>\n",
       "      <td>7.00</td>\n",
       "      <td>21.60</td>\n",
       "      <td>26.40</td>\n",
       "      <td>0.00</td>\n",
       "      <td>0.00</td>\n",
       "    </tr>\n",
       "    <tr>\n",
       "      <th>max</th>\n",
       "      <td>33.90</td>\n",
       "      <td>48.10</td>\n",
       "      <td>371.00</td>\n",
       "      <td>145.00</td>\n",
       "      <td>14.50</td>\n",
       "      <td>135.00</td>\n",
       "      <td>130.00</td>\n",
       "      <td>87.00</td>\n",
       "      <td>100.00</td>\n",
       "      <td>100.00</td>\n",
       "      <td>1041.00</td>\n",
       "      <td>1039.60</td>\n",
       "      <td>9.00</td>\n",
       "      <td>9.00</td>\n",
       "      <td>40.20</td>\n",
       "      <td>46.70</td>\n",
       "      <td>1.00</td>\n",
       "      <td>1.00</td>\n",
       "    </tr>\n",
       "  </tbody>\n",
       "</table>\n",
       "</div>"
      ],
      "text/plain": [
       "         MinTemp    MaxTemp   Rainfall  Evaporation  Sunshine  WindGustSpeed  \\\n",
       "count  143975.00  144199.00  142199.00     82670.00  75625.00      135197.00   \n",
       "mean       12.19      23.22       2.36         5.47      7.61          40.04   \n",
       "std         6.40       7.12       8.48         4.19      3.79          13.61   \n",
       "min        -8.50      -4.80       0.00         0.00      0.00           6.00   \n",
       "25%         7.60      17.90       0.00         2.60      4.80          31.00   \n",
       "50%        12.00      22.60       0.00         4.80      8.40          39.00   \n",
       "75%        16.90      28.20       0.80         7.40     10.60          48.00   \n",
       "max        33.90      48.10     371.00       145.00     14.50         135.00   \n",
       "\n",
       "       WindSpeed9am  WindSpeed3pm  Humidity9am  Humidity3pm  Pressure9am  \\\n",
       "count     143693.00     142398.00    142806.00    140953.00    130395.00   \n",
       "mean          14.04         18.66        68.88        51.54      1017.65   \n",
       "std            8.92          8.81        19.03        20.80         7.11   \n",
       "min            0.00          0.00         0.00         0.00       980.50   \n",
       "25%            7.00         13.00        57.00        37.00      1012.90   \n",
       "50%           13.00         19.00        70.00        52.00      1017.60   \n",
       "75%           19.00         24.00        83.00        66.00      1022.40   \n",
       "max          130.00         87.00       100.00       100.00      1041.00   \n",
       "\n",
       "       Pressure3pm  Cloud9am  Cloud3pm    Temp9am    Temp3pm  RainToday  \\\n",
       "count    130432.00  89572.00  86102.00  143693.00  141851.00  142199.00   \n",
       "mean       1015.26      4.45      4.51      16.99      21.68       0.22   \n",
       "std           7.04      2.89      2.72       6.49       6.94       0.42   \n",
       "min         977.10      0.00      0.00      -7.20      -5.40       0.00   \n",
       "25%        1010.40      1.00      2.00      12.30      16.60       0.00   \n",
       "50%        1015.20      5.00      5.00      16.70      21.10       0.00   \n",
       "75%        1020.00      7.00      7.00      21.60      26.40       0.00   \n",
       "max        1039.60      9.00      9.00      40.20      46.70       1.00   \n",
       "\n",
       "       RainTomorrow  \n",
       "count     142193.00  \n",
       "mean           0.22  \n",
       "std            0.42  \n",
       "min            0.00  \n",
       "25%            0.00  \n",
       "50%            0.00  \n",
       "75%            0.00  \n",
       "max            1.00  "
      ]
     },
     "execution_count": 57,
     "metadata": {},
     "output_type": "execute_result"
    }
   ],
   "source": [
    "rain_stats=rain_df.describe().round(decimals=2)\n",
    "rain_stats"
   ]
  },
  {
   "cell_type": "markdown",
   "metadata": {},
   "source": [
    "As we can see from the table, the number of attribute vectors, their mean, standard deviation, minimum/maximum, 1st-2nd-3rd quartiles"
   ]
  },
  {
   "attachments": {},
   "cell_type": "markdown",
   "metadata": {},
   "source": [
    "##### Correlation Matrix"
   ]
  },
  {
   "attachments": {},
   "cell_type": "markdown",
   "metadata": {},
   "source": [
    "This code calculates the correlation matrix of the rain_df dataframe using the .corr() method and rounds the\n",
    "values to two decimal places using the .round() method."
   ]
  },
  {
   "cell_type": "code",
   "execution_count": 58,
   "metadata": {},
   "outputs": [
    {
     "data": {
      "text/html": [
       "<div>\n",
       "<style scoped>\n",
       "    .dataframe tbody tr th:only-of-type {\n",
       "        vertical-align: middle;\n",
       "    }\n",
       "\n",
       "    .dataframe tbody tr th {\n",
       "        vertical-align: top;\n",
       "    }\n",
       "\n",
       "    .dataframe thead th {\n",
       "        text-align: right;\n",
       "    }\n",
       "</style>\n",
       "<table border=\"1\" class=\"dataframe\">\n",
       "  <thead>\n",
       "    <tr style=\"text-align: right;\">\n",
       "      <th></th>\n",
       "      <th>MinTemp</th>\n",
       "      <th>MaxTemp</th>\n",
       "      <th>Rainfall</th>\n",
       "      <th>Evaporation</th>\n",
       "      <th>Sunshine</th>\n",
       "      <th>WindGustSpeed</th>\n",
       "      <th>WindSpeed9am</th>\n",
       "      <th>WindSpeed3pm</th>\n",
       "      <th>Humidity9am</th>\n",
       "      <th>Humidity3pm</th>\n",
       "      <th>Pressure9am</th>\n",
       "      <th>Pressure3pm</th>\n",
       "      <th>Cloud9am</th>\n",
       "      <th>Cloud3pm</th>\n",
       "      <th>Temp9am</th>\n",
       "      <th>Temp3pm</th>\n",
       "      <th>RainToday</th>\n",
       "      <th>RainTomorrow</th>\n",
       "    </tr>\n",
       "  </thead>\n",
       "  <tbody>\n",
       "    <tr>\n",
       "      <th>MinTemp</th>\n",
       "      <td>1.00</td>\n",
       "      <td>0.74</td>\n",
       "      <td>0.10</td>\n",
       "      <td>0.47</td>\n",
       "      <td>0.07</td>\n",
       "      <td>0.18</td>\n",
       "      <td>0.18</td>\n",
       "      <td>0.18</td>\n",
       "      <td>-0.23</td>\n",
       "      <td>0.01</td>\n",
       "      <td>-0.45</td>\n",
       "      <td>-0.46</td>\n",
       "      <td>0.08</td>\n",
       "      <td>0.02</td>\n",
       "      <td>0.90</td>\n",
       "      <td>0.71</td>\n",
       "      <td>0.06</td>\n",
       "      <td>0.08</td>\n",
       "    </tr>\n",
       "    <tr>\n",
       "      <th>MaxTemp</th>\n",
       "      <td>0.74</td>\n",
       "      <td>1.00</td>\n",
       "      <td>-0.07</td>\n",
       "      <td>0.59</td>\n",
       "      <td>0.47</td>\n",
       "      <td>0.07</td>\n",
       "      <td>0.01</td>\n",
       "      <td>0.05</td>\n",
       "      <td>-0.50</td>\n",
       "      <td>-0.51</td>\n",
       "      <td>-0.33</td>\n",
       "      <td>-0.43</td>\n",
       "      <td>-0.29</td>\n",
       "      <td>-0.28</td>\n",
       "      <td>0.89</td>\n",
       "      <td>0.98</td>\n",
       "      <td>-0.23</td>\n",
       "      <td>-0.16</td>\n",
       "    </tr>\n",
       "    <tr>\n",
       "      <th>Rainfall</th>\n",
       "      <td>0.10</td>\n",
       "      <td>-0.07</td>\n",
       "      <td>1.00</td>\n",
       "      <td>-0.06</td>\n",
       "      <td>-0.23</td>\n",
       "      <td>0.13</td>\n",
       "      <td>0.09</td>\n",
       "      <td>0.06</td>\n",
       "      <td>0.22</td>\n",
       "      <td>0.26</td>\n",
       "      <td>-0.17</td>\n",
       "      <td>-0.13</td>\n",
       "      <td>0.20</td>\n",
       "      <td>0.17</td>\n",
       "      <td>0.01</td>\n",
       "      <td>-0.08</td>\n",
       "      <td>0.50</td>\n",
       "      <td>0.24</td>\n",
       "    </tr>\n",
       "    <tr>\n",
       "      <th>Evaporation</th>\n",
       "      <td>0.47</td>\n",
       "      <td>0.59</td>\n",
       "      <td>-0.06</td>\n",
       "      <td>1.00</td>\n",
       "      <td>0.37</td>\n",
       "      <td>0.20</td>\n",
       "      <td>0.19</td>\n",
       "      <td>0.13</td>\n",
       "      <td>-0.50</td>\n",
       "      <td>-0.39</td>\n",
       "      <td>-0.27</td>\n",
       "      <td>-0.29</td>\n",
       "      <td>-0.18</td>\n",
       "      <td>-0.18</td>\n",
       "      <td>0.55</td>\n",
       "      <td>0.57</td>\n",
       "      <td>-0.19</td>\n",
       "      <td>-0.12</td>\n",
       "    </tr>\n",
       "    <tr>\n",
       "      <th>Sunshine</th>\n",
       "      <td>0.07</td>\n",
       "      <td>0.47</td>\n",
       "      <td>-0.23</td>\n",
       "      <td>0.37</td>\n",
       "      <td>1.00</td>\n",
       "      <td>-0.03</td>\n",
       "      <td>0.01</td>\n",
       "      <td>0.05</td>\n",
       "      <td>-0.49</td>\n",
       "      <td>-0.63</td>\n",
       "      <td>0.04</td>\n",
       "      <td>-0.02</td>\n",
       "      <td>-0.68</td>\n",
       "      <td>-0.70</td>\n",
       "      <td>0.29</td>\n",
       "      <td>0.49</td>\n",
       "      <td>-0.33</td>\n",
       "      <td>-0.45</td>\n",
       "    </tr>\n",
       "    <tr>\n",
       "      <th>WindGustSpeed</th>\n",
       "      <td>0.18</td>\n",
       "      <td>0.07</td>\n",
       "      <td>0.13</td>\n",
       "      <td>0.20</td>\n",
       "      <td>-0.03</td>\n",
       "      <td>1.00</td>\n",
       "      <td>0.61</td>\n",
       "      <td>0.69</td>\n",
       "      <td>-0.22</td>\n",
       "      <td>-0.03</td>\n",
       "      <td>-0.46</td>\n",
       "      <td>-0.41</td>\n",
       "      <td>0.07</td>\n",
       "      <td>0.11</td>\n",
       "      <td>0.15</td>\n",
       "      <td>0.03</td>\n",
       "      <td>0.16</td>\n",
       "      <td>0.23</td>\n",
       "    </tr>\n",
       "    <tr>\n",
       "      <th>WindSpeed9am</th>\n",
       "      <td>0.18</td>\n",
       "      <td>0.01</td>\n",
       "      <td>0.09</td>\n",
       "      <td>0.19</td>\n",
       "      <td>0.01</td>\n",
       "      <td>0.61</td>\n",
       "      <td>1.00</td>\n",
       "      <td>0.52</td>\n",
       "      <td>-0.27</td>\n",
       "      <td>-0.03</td>\n",
       "      <td>-0.23</td>\n",
       "      <td>-0.18</td>\n",
       "      <td>0.03</td>\n",
       "      <td>0.05</td>\n",
       "      <td>0.13</td>\n",
       "      <td>0.00</td>\n",
       "      <td>0.10</td>\n",
       "      <td>0.09</td>\n",
       "    </tr>\n",
       "    <tr>\n",
       "      <th>WindSpeed3pm</th>\n",
       "      <td>0.18</td>\n",
       "      <td>0.05</td>\n",
       "      <td>0.06</td>\n",
       "      <td>0.13</td>\n",
       "      <td>0.05</td>\n",
       "      <td>0.69</td>\n",
       "      <td>0.52</td>\n",
       "      <td>1.00</td>\n",
       "      <td>-0.15</td>\n",
       "      <td>0.02</td>\n",
       "      <td>-0.30</td>\n",
       "      <td>-0.26</td>\n",
       "      <td>0.05</td>\n",
       "      <td>0.03</td>\n",
       "      <td>0.16</td>\n",
       "      <td>0.03</td>\n",
       "      <td>0.08</td>\n",
       "      <td>0.09</td>\n",
       "    </tr>\n",
       "    <tr>\n",
       "      <th>Humidity9am</th>\n",
       "      <td>-0.23</td>\n",
       "      <td>-0.50</td>\n",
       "      <td>0.22</td>\n",
       "      <td>-0.50</td>\n",
       "      <td>-0.49</td>\n",
       "      <td>-0.22</td>\n",
       "      <td>-0.27</td>\n",
       "      <td>-0.15</td>\n",
       "      <td>1.00</td>\n",
       "      <td>0.67</td>\n",
       "      <td>0.14</td>\n",
       "      <td>0.19</td>\n",
       "      <td>0.45</td>\n",
       "      <td>0.36</td>\n",
       "      <td>-0.47</td>\n",
       "      <td>-0.50</td>\n",
       "      <td>0.35</td>\n",
       "      <td>0.26</td>\n",
       "    </tr>\n",
       "    <tr>\n",
       "      <th>Humidity3pm</th>\n",
       "      <td>0.01</td>\n",
       "      <td>-0.51</td>\n",
       "      <td>0.26</td>\n",
       "      <td>-0.39</td>\n",
       "      <td>-0.63</td>\n",
       "      <td>-0.03</td>\n",
       "      <td>-0.03</td>\n",
       "      <td>0.02</td>\n",
       "      <td>0.67</td>\n",
       "      <td>1.00</td>\n",
       "      <td>-0.03</td>\n",
       "      <td>0.05</td>\n",
       "      <td>0.52</td>\n",
       "      <td>0.52</td>\n",
       "      <td>-0.22</td>\n",
       "      <td>-0.56</td>\n",
       "      <td>0.38</td>\n",
       "      <td>0.45</td>\n",
       "    </tr>\n",
       "    <tr>\n",
       "      <th>Pressure9am</th>\n",
       "      <td>-0.45</td>\n",
       "      <td>-0.33</td>\n",
       "      <td>-0.17</td>\n",
       "      <td>-0.27</td>\n",
       "      <td>0.04</td>\n",
       "      <td>-0.46</td>\n",
       "      <td>-0.23</td>\n",
       "      <td>-0.30</td>\n",
       "      <td>0.14</td>\n",
       "      <td>-0.03</td>\n",
       "      <td>1.00</td>\n",
       "      <td>0.96</td>\n",
       "      <td>-0.13</td>\n",
       "      <td>-0.15</td>\n",
       "      <td>-0.42</td>\n",
       "      <td>-0.29</td>\n",
       "      <td>-0.19</td>\n",
       "      <td>-0.25</td>\n",
       "    </tr>\n",
       "    <tr>\n",
       "      <th>Pressure3pm</th>\n",
       "      <td>-0.46</td>\n",
       "      <td>-0.43</td>\n",
       "      <td>-0.13</td>\n",
       "      <td>-0.29</td>\n",
       "      <td>-0.02</td>\n",
       "      <td>-0.41</td>\n",
       "      <td>-0.18</td>\n",
       "      <td>-0.26</td>\n",
       "      <td>0.19</td>\n",
       "      <td>0.05</td>\n",
       "      <td>0.96</td>\n",
       "      <td>1.00</td>\n",
       "      <td>-0.06</td>\n",
       "      <td>-0.08</td>\n",
       "      <td>-0.47</td>\n",
       "      <td>-0.39</td>\n",
       "      <td>-0.11</td>\n",
       "      <td>-0.23</td>\n",
       "    </tr>\n",
       "    <tr>\n",
       "      <th>Cloud9am</th>\n",
       "      <td>0.08</td>\n",
       "      <td>-0.29</td>\n",
       "      <td>0.20</td>\n",
       "      <td>-0.18</td>\n",
       "      <td>-0.68</td>\n",
       "      <td>0.07</td>\n",
       "      <td>0.03</td>\n",
       "      <td>0.05</td>\n",
       "      <td>0.45</td>\n",
       "      <td>0.52</td>\n",
       "      <td>-0.13</td>\n",
       "      <td>-0.06</td>\n",
       "      <td>1.00</td>\n",
       "      <td>0.60</td>\n",
       "      <td>-0.14</td>\n",
       "      <td>-0.30</td>\n",
       "      <td>0.31</td>\n",
       "      <td>0.32</td>\n",
       "    </tr>\n",
       "    <tr>\n",
       "      <th>Cloud3pm</th>\n",
       "      <td>0.02</td>\n",
       "      <td>-0.28</td>\n",
       "      <td>0.17</td>\n",
       "      <td>-0.18</td>\n",
       "      <td>-0.70</td>\n",
       "      <td>0.11</td>\n",
       "      <td>0.05</td>\n",
       "      <td>0.03</td>\n",
       "      <td>0.36</td>\n",
       "      <td>0.52</td>\n",
       "      <td>-0.15</td>\n",
       "      <td>-0.08</td>\n",
       "      <td>0.60</td>\n",
       "      <td>1.00</td>\n",
       "      <td>-0.13</td>\n",
       "      <td>-0.32</td>\n",
       "      <td>0.27</td>\n",
       "      <td>0.38</td>\n",
       "    </tr>\n",
       "    <tr>\n",
       "      <th>Temp9am</th>\n",
       "      <td>0.90</td>\n",
       "      <td>0.89</td>\n",
       "      <td>0.01</td>\n",
       "      <td>0.55</td>\n",
       "      <td>0.29</td>\n",
       "      <td>0.15</td>\n",
       "      <td>0.13</td>\n",
       "      <td>0.16</td>\n",
       "      <td>-0.47</td>\n",
       "      <td>-0.22</td>\n",
       "      <td>-0.42</td>\n",
       "      <td>-0.47</td>\n",
       "      <td>-0.14</td>\n",
       "      <td>-0.13</td>\n",
       "      <td>1.00</td>\n",
       "      <td>0.86</td>\n",
       "      <td>-0.10</td>\n",
       "      <td>-0.03</td>\n",
       "    </tr>\n",
       "    <tr>\n",
       "      <th>Temp3pm</th>\n",
       "      <td>0.71</td>\n",
       "      <td>0.98</td>\n",
       "      <td>-0.08</td>\n",
       "      <td>0.57</td>\n",
       "      <td>0.49</td>\n",
       "      <td>0.03</td>\n",
       "      <td>0.00</td>\n",
       "      <td>0.03</td>\n",
       "      <td>-0.50</td>\n",
       "      <td>-0.56</td>\n",
       "      <td>-0.29</td>\n",
       "      <td>-0.39</td>\n",
       "      <td>-0.30</td>\n",
       "      <td>-0.32</td>\n",
       "      <td>0.86</td>\n",
       "      <td>1.00</td>\n",
       "      <td>-0.24</td>\n",
       "      <td>-0.19</td>\n",
       "    </tr>\n",
       "    <tr>\n",
       "      <th>RainToday</th>\n",
       "      <td>0.06</td>\n",
       "      <td>-0.23</td>\n",
       "      <td>0.50</td>\n",
       "      <td>-0.19</td>\n",
       "      <td>-0.33</td>\n",
       "      <td>0.16</td>\n",
       "      <td>0.10</td>\n",
       "      <td>0.08</td>\n",
       "      <td>0.35</td>\n",
       "      <td>0.38</td>\n",
       "      <td>-0.19</td>\n",
       "      <td>-0.11</td>\n",
       "      <td>0.31</td>\n",
       "      <td>0.27</td>\n",
       "      <td>-0.10</td>\n",
       "      <td>-0.24</td>\n",
       "      <td>1.00</td>\n",
       "      <td>0.31</td>\n",
       "    </tr>\n",
       "    <tr>\n",
       "      <th>RainTomorrow</th>\n",
       "      <td>0.08</td>\n",
       "      <td>-0.16</td>\n",
       "      <td>0.24</td>\n",
       "      <td>-0.12</td>\n",
       "      <td>-0.45</td>\n",
       "      <td>0.23</td>\n",
       "      <td>0.09</td>\n",
       "      <td>0.09</td>\n",
       "      <td>0.26</td>\n",
       "      <td>0.45</td>\n",
       "      <td>-0.25</td>\n",
       "      <td>-0.23</td>\n",
       "      <td>0.32</td>\n",
       "      <td>0.38</td>\n",
       "      <td>-0.03</td>\n",
       "      <td>-0.19</td>\n",
       "      <td>0.31</td>\n",
       "      <td>1.00</td>\n",
       "    </tr>\n",
       "  </tbody>\n",
       "</table>\n",
       "</div>"
      ],
      "text/plain": [
       "               MinTemp  MaxTemp  Rainfall  Evaporation  Sunshine  \\\n",
       "MinTemp           1.00     0.74      0.10         0.47      0.07   \n",
       "MaxTemp           0.74     1.00     -0.07         0.59      0.47   \n",
       "Rainfall          0.10    -0.07      1.00        -0.06     -0.23   \n",
       "Evaporation       0.47     0.59     -0.06         1.00      0.37   \n",
       "Sunshine          0.07     0.47     -0.23         0.37      1.00   \n",
       "WindGustSpeed     0.18     0.07      0.13         0.20     -0.03   \n",
       "WindSpeed9am      0.18     0.01      0.09         0.19      0.01   \n",
       "WindSpeed3pm      0.18     0.05      0.06         0.13      0.05   \n",
       "Humidity9am      -0.23    -0.50      0.22        -0.50     -0.49   \n",
       "Humidity3pm       0.01    -0.51      0.26        -0.39     -0.63   \n",
       "Pressure9am      -0.45    -0.33     -0.17        -0.27      0.04   \n",
       "Pressure3pm      -0.46    -0.43     -0.13        -0.29     -0.02   \n",
       "Cloud9am          0.08    -0.29      0.20        -0.18     -0.68   \n",
       "Cloud3pm          0.02    -0.28      0.17        -0.18     -0.70   \n",
       "Temp9am           0.90     0.89      0.01         0.55      0.29   \n",
       "Temp3pm           0.71     0.98     -0.08         0.57      0.49   \n",
       "RainToday         0.06    -0.23      0.50        -0.19     -0.33   \n",
       "RainTomorrow      0.08    -0.16      0.24        -0.12     -0.45   \n",
       "\n",
       "               WindGustSpeed  WindSpeed9am  WindSpeed3pm  Humidity9am  \\\n",
       "MinTemp                 0.18          0.18          0.18        -0.23   \n",
       "MaxTemp                 0.07          0.01          0.05        -0.50   \n",
       "Rainfall                0.13          0.09          0.06         0.22   \n",
       "Evaporation             0.20          0.19          0.13        -0.50   \n",
       "Sunshine               -0.03          0.01          0.05        -0.49   \n",
       "WindGustSpeed           1.00          0.61          0.69        -0.22   \n",
       "WindSpeed9am            0.61          1.00          0.52        -0.27   \n",
       "WindSpeed3pm            0.69          0.52          1.00        -0.15   \n",
       "Humidity9am            -0.22         -0.27         -0.15         1.00   \n",
       "Humidity3pm            -0.03         -0.03          0.02         0.67   \n",
       "Pressure9am            -0.46         -0.23         -0.30         0.14   \n",
       "Pressure3pm            -0.41         -0.18         -0.26         0.19   \n",
       "Cloud9am                0.07          0.03          0.05         0.45   \n",
       "Cloud3pm                0.11          0.05          0.03         0.36   \n",
       "Temp9am                 0.15          0.13          0.16        -0.47   \n",
       "Temp3pm                 0.03          0.00          0.03        -0.50   \n",
       "RainToday               0.16          0.10          0.08         0.35   \n",
       "RainTomorrow            0.23          0.09          0.09         0.26   \n",
       "\n",
       "               Humidity3pm  Pressure9am  Pressure3pm  Cloud9am  Cloud3pm  \\\n",
       "MinTemp               0.01        -0.45        -0.46      0.08      0.02   \n",
       "MaxTemp              -0.51        -0.33        -0.43     -0.29     -0.28   \n",
       "Rainfall              0.26        -0.17        -0.13      0.20      0.17   \n",
       "Evaporation          -0.39        -0.27        -0.29     -0.18     -0.18   \n",
       "Sunshine             -0.63         0.04        -0.02     -0.68     -0.70   \n",
       "WindGustSpeed        -0.03        -0.46        -0.41      0.07      0.11   \n",
       "WindSpeed9am         -0.03        -0.23        -0.18      0.03      0.05   \n",
       "WindSpeed3pm          0.02        -0.30        -0.26      0.05      0.03   \n",
       "Humidity9am           0.67         0.14         0.19      0.45      0.36   \n",
       "Humidity3pm           1.00        -0.03         0.05      0.52      0.52   \n",
       "Pressure9am          -0.03         1.00         0.96     -0.13     -0.15   \n",
       "Pressure3pm           0.05         0.96         1.00     -0.06     -0.08   \n",
       "Cloud9am              0.52        -0.13        -0.06      1.00      0.60   \n",
       "Cloud3pm              0.52        -0.15        -0.08      0.60      1.00   \n",
       "Temp9am              -0.22        -0.42        -0.47     -0.14     -0.13   \n",
       "Temp3pm              -0.56        -0.29        -0.39     -0.30     -0.32   \n",
       "RainToday             0.38        -0.19        -0.11      0.31      0.27   \n",
       "RainTomorrow          0.45        -0.25        -0.23      0.32      0.38   \n",
       "\n",
       "               Temp9am  Temp3pm  RainToday  RainTomorrow  \n",
       "MinTemp           0.90     0.71       0.06          0.08  \n",
       "MaxTemp           0.89     0.98      -0.23         -0.16  \n",
       "Rainfall          0.01    -0.08       0.50          0.24  \n",
       "Evaporation       0.55     0.57      -0.19         -0.12  \n",
       "Sunshine          0.29     0.49      -0.33         -0.45  \n",
       "WindGustSpeed     0.15     0.03       0.16          0.23  \n",
       "WindSpeed9am      0.13     0.00       0.10          0.09  \n",
       "WindSpeed3pm      0.16     0.03       0.08          0.09  \n",
       "Humidity9am      -0.47    -0.50       0.35          0.26  \n",
       "Humidity3pm      -0.22    -0.56       0.38          0.45  \n",
       "Pressure9am      -0.42    -0.29      -0.19         -0.25  \n",
       "Pressure3pm      -0.47    -0.39      -0.11         -0.23  \n",
       "Cloud9am         -0.14    -0.30       0.31          0.32  \n",
       "Cloud3pm         -0.13    -0.32       0.27          0.38  \n",
       "Temp9am           1.00     0.86      -0.10         -0.03  \n",
       "Temp3pm           0.86     1.00      -0.24         -0.19  \n",
       "RainToday        -0.10    -0.24       1.00          0.31  \n",
       "RainTomorrow     -0.03    -0.19       0.31          1.00  "
      ]
     },
     "execution_count": 58,
     "metadata": {},
     "output_type": "execute_result"
    }
   ],
   "source": [
    "\n",
    "cor_matrix=rain_df.corr().round(decimals=2)\n",
    "cor_matrix"
   ]
  },
  {
   "cell_type": "markdown",
   "metadata": {},
   "source": [
    "This matrix is a significant tool to get insights of the correlation between different fields. Values range from -1 to 1, the more the absolute value of them closer to one, the stronger the relationship becomes. Their sign illustrate types of relationship ('-' : negative relationship, '+' : positive relationship)"
   ]
  },
  {
   "attachments": {},
   "cell_type": "markdown",
   "metadata": {},
   "source": [
    "For instance, we take the correlation between outcome and other attributes, it is evident to see that Temp9pm has the largest correlation (0.89) and positive relationship with MaxTemp. That means the higher the temperature at 9pm is, the more the max temperature it will be."
   ]
  },
  {
   "attachments": {},
   "cell_type": "markdown",
   "metadata": {},
   "source": [
    "##### HEAT MAP"
   ]
  },
  {
   "attachments": {},
   "cell_type": "markdown",
   "metadata": {},
   "source": [
    "This code creates a scatter plot matrix using the scatter_matrix function from pandas.plotting module, which shows the pairwise relationships between all the variables in the rain_df dataframe"
   ]
  },
  {
   "cell_type": "code",
   "execution_count": 61,
   "metadata": {},
   "outputs": [
    {
     "data": {
      "image/png": "[encoded data removed]",
      "text/plain": [
       "<Figure size 432x288 with 324 Axes>"
      ]
     },
     "metadata": {
      "needs_background": "light"
     },
     "output_type": "display_data"
    }
   ],
   "source": [
    "from pandas.plotting import scatter_matrix\n",
    "scatter_matrix(rain_df)\n",
    "plt.show() #plot is then shown using plt.show()."
   ]
  },
  {
   "attachments": {},
   "cell_type": "markdown",
   "metadata": {},
   "source": [
    "### 3) VISUALIZATION OF DATASET"
   ]
  },
  {
   "cell_type": "code",
   "execution_count": 62,
   "metadata": {},
   "outputs": [
    {
     "data": {
      "image/png": "[encoded data removed]",
      "text/plain": [
       "<Figure size 1440x1080 with 20 Axes>"
      ]
     },
     "metadata": {
      "needs_background": "light"
     },
     "output_type": "display_data"
    }
   ],
   "source": [
    "#Histogram of each attribute in rain_df.\n",
    "import matplotlib.pyplot as plt\n",
    "rain_df.hist(bins=50, figsize=(20, 15))\n",
    "plt.show()"
   ]
  },
  {
   "attachments": {},
   "cell_type": "markdown",
   "metadata": {},
   "source": [
    "According to those histograms, we can see attributes: Humidity3pm, Pressure9am, Pressure3pm, MaxTemp, MinTemp, Temp9am, and Temp3pm.\n",
    "Also, there are some categorical features such as: RainToday, RainTomorrow, Cloud9am, Cloud3pm."
   ]
  },
  {
   "cell_type": "markdown",
   "metadata": {},
   "source": [
    "However, more importantly, the regconition of some attribute has null ('0') values, which is impossible in term of its indexes and might affect the analysis in future, such as: skin thickness, insulin, glucose, blood pressure... So we have to processed those data for better understanding"
   ]
  },
  {
   "attachments": {},
   "cell_type": "markdown",
   "metadata": {},
   "source": [
    "## II) DATA CLEANING AND TRANSFORMATION"
   ]
  },
  {
   "attachments": {},
   "cell_type": "markdown",
   "metadata": {},
   "source": [
    "### 1) DEALING WITH MISSING VALUES"
   ]
  },
  {
   "cell_type": "markdown",
   "metadata": {},
   "source": [
    "We will divide dataset into 2 parts (Categorical and Numerical)"
   ]
  },
  {
   "attachments": {},
   "cell_type": "markdown",
   "metadata": {},
   "source": [
    "### *Dealing with Categorical Missing Values*"
   ]
  },
  {
   "cell_type": "code",
   "execution_count": 63,
   "metadata": {},
   "outputs": [
    {
     "name": "stdout",
     "output_type": "stream",
     "text": [
      "Categorical variables:\n",
      "['Date', 'Location', 'WindGustDir', 'WindDir9am', 'WindDir3pm']\n"
     ]
    }
   ],
   "source": [
    "# Get list of categorical variables\n",
    "s = (rain_df.dtypes == \"object\") # Check if each column's data type is \"object\" (i.e., categorical)\n",
    "object_cols = list(s[s].index) # Get the column names where the data type is \"object\" and convert them to a list\n",
    "\n",
    "print(\"Categorical variables:\") # Print the list of column names with categorical variables\n",
    "print(object_cols)"
   ]
  },
  {
   "cell_type": "code",
   "execution_count": 64,
   "metadata": {
    "scrolled": true
   },
   "outputs": [
    {
     "name": "stdout",
     "output_type": "stream",
     "text": [
      "Date 0\n",
      "Location 0\n",
      "WindGustDir 10326\n",
      "WindDir9am 10566\n",
      "WindDir3pm 4228\n"
     ]
    }
   ],
   "source": [
    "\n",
    "# Missing values in numeric variables:This loop iterates through each column in the DataFrame and prints the column \n",
    "#name along with the number of null values in that column.\n",
    "\n",
    "for i in object_cols:\n",
    "    print(i, rain_df[i].isnull().sum())"
   ]
  },
  {
   "attachments": {},
   "cell_type": "markdown",
   "metadata": {},
   "source": [
    "As can be seen, WindGustDir, WindDir9am, WindDir3pm have many missing values.\n",
    "\n",
    "* In this dataset, I will replace the missing values with the mode of the column values.\n",
    "\n",
    "* Because the mode is the most frequently occurring value in a column, and using it as a replacement for missing values can help to maintain the overall distribution and characteristics of the original data."
   ]
  },
  {
   "cell_type": "code",
   "execution_count": 65,
   "metadata": {},
   "outputs": [],
   "source": [
    "# Filling missing values with mode of the column in value\n",
    "\n",
    "for i in object_cols:\n",
    "    rain_df[i].fillna(rain_df[i].mode()[0], inplace=True)"
   ]
  },
  {
   "attachments": {},
   "cell_type": "markdown",
   "metadata": {},
   "source": [
    "### *Dealing with Numerical Missing Values*\n",
    "* Filling missing values with median of the column value\n",
    "* The reason we filled with median values is: the median is used for numerical data because it is not affected by extreme values and provides a robust measure of central tendency"
   ]
  },
  {
   "cell_type": "code",
   "execution_count": 66,
   "metadata": {},
   "outputs": [
    {
     "name": "stdout",
     "output_type": "stream",
     "text": [
      "Neumeric variables:\n",
      "['MinTemp', 'MaxTemp', 'Rainfall', 'Evaporation', 'Sunshine', 'WindGustSpeed', 'WindSpeed9am', 'WindSpeed3pm', 'Humidity9am', 'Humidity3pm', 'Pressure9am', 'Pressure3pm', 'Cloud9am', 'Cloud3pm', 'Temp9am', 'Temp3pm', 'RainToday', 'RainTomorrow']\n"
     ]
    }
   ],
   "source": [
    "# Get list of neumeric variables\n",
    "t = (rain_df.dtypes == \"float64\")\n",
    "num_cols = list(t[t].index)\n",
    "\n",
    "print(\"Neumeric variables:\")\n",
    "print(num_cols)"
   ]
  },
  {
   "cell_type": "code",
   "execution_count": 67,
   "metadata": {},
   "outputs": [
    {
     "name": "stdout",
     "output_type": "stream",
     "text": [
      "MinTemp 1485\n",
      "MaxTemp 1261\n",
      "Rainfall 3261\n",
      "Evaporation 62790\n",
      "Sunshine 69835\n",
      "WindGustSpeed 10263\n",
      "WindSpeed9am 1767\n",
      "WindSpeed3pm 3062\n",
      "Humidity9am 2654\n",
      "Humidity3pm 4507\n",
      "Pressure9am 15065\n",
      "Pressure3pm 15028\n",
      "Cloud9am 55888\n",
      "Cloud3pm 59358\n",
      "Temp9am 1767\n",
      "Temp3pm 3609\n",
      "RainToday 3261\n",
      "RainTomorrow 3267\n"
     ]
    }
   ],
   "source": [
    "# Missing values in numeric variables\n",
    "\n",
    "for i in num_cols:\n",
    "    print(i, rain_df[i].isnull().sum())"
   ]
  },
  {
   "cell_type": "code",
   "execution_count": 68,
   "metadata": {},
   "outputs": [
    {
     "name": "stdout",
     "output_type": "stream",
     "text": [
      "<class 'pandas.core.frame.DataFrame'>\n",
      "RangeIndex: 145460 entries, 0 to 145459\n",
      "Data columns (total 23 columns):\n",
      " #   Column         Non-Null Count   Dtype  \n",
      "---  ------         --------------   -----  \n",
      " 0   Date           145460 non-null  object \n",
      " 1   Location       145460 non-null  object \n",
      " 2   MinTemp        145460 non-null  float64\n",
      " 3   MaxTemp        145460 non-null  float64\n",
      " 4   Rainfall       145460 non-null  float64\n",
      " 5   Evaporation    145460 non-null  float64\n",
      " 6   Sunshine       145460 non-null  float64\n",
      " 7   WindGustDir    145460 non-null  object \n",
      " 8   WindGustSpeed  145460 non-null  float64\n",
      " 9   WindDir9am     145460 non-null  object \n",
      " 10  WindDir3pm     145460 non-null  object \n",
      " 11  WindSpeed9am   145460 non-null  float64\n",
      " 12  WindSpeed3pm   145460 non-null  float64\n",
      " 13  Humidity9am    145460 non-null  float64\n",
      " 14  Humidity3pm    145460 non-null  float64\n",
      " 15  Pressure9am    145460 non-null  float64\n",
      " 16  Pressure3pm    145460 non-null  float64\n",
      " 17  Cloud9am       145460 non-null  float64\n",
      " 18  Cloud3pm       145460 non-null  float64\n",
      " 19  Temp9am        145460 non-null  float64\n",
      " 20  Temp3pm        145460 non-null  float64\n",
      " 21  RainToday      145460 non-null  float64\n",
      " 22  RainTomorrow   145460 non-null  float64\n",
      "dtypes: float64(18), object(5)\n",
      "memory usage: 25.5+ MB\n"
     ]
    }
   ],
   "source": [
    "# Filling missing values with median of the column in value\n",
    "\n",
    "for i in num_cols:\n",
    "    rain_df[i].fillna(rain_df[i].median(), inplace=True)\n",
    "rain_df.info()"
   ]
  },
  {
   "attachments": {},
   "cell_type": "markdown",
   "metadata": {},
   "source": [
    "### 2)Label encoding the catagorical variable\n",
    "* Definition: Categorical variables are converted into numerical labels.\n",
    "* The purpose: To convert categorical variables into a format that can be easily understood and processed by machine learning algorithms or statistical models, which typically require numerical inputs.\n",
    "* In this dataframe, there are 5 categorical variable: Location, Data, WindGustDir, WindDir9am, WindDir3pm"
   ]
  },
  {
   "cell_type": "code",
   "execution_count": 69,
   "metadata": {
    "scrolled": true
   },
   "outputs": [
    {
     "name": "stdout",
     "output_type": "stream",
     "text": [
      "<class 'pandas.core.frame.DataFrame'>\n",
      "RangeIndex: 145460 entries, 0 to 145459\n",
      "Data columns (total 23 columns):\n",
      " #   Column         Non-Null Count   Dtype  \n",
      "---  ------         --------------   -----  \n",
      " 0   Date           145460 non-null  int32  \n",
      " 1   Location       145460 non-null  int32  \n",
      " 2   MinTemp        145460 non-null  float64\n",
      " 3   MaxTemp        145460 non-null  float64\n",
      " 4   Rainfall       145460 non-null  float64\n",
      " 5   Evaporation    145460 non-null  float64\n",
      " 6   Sunshine       145460 non-null  float64\n",
      " 7   WindGustDir    145460 non-null  int32  \n",
      " 8   WindGustSpeed  145460 non-null  float64\n",
      " 9   WindDir9am     145460 non-null  int32  \n",
      " 10  WindDir3pm     145460 non-null  int32  \n",
      " 11  WindSpeed9am   145460 non-null  float64\n",
      " 12  WindSpeed3pm   145460 non-null  float64\n",
      " 13  Humidity9am    145460 non-null  float64\n",
      " 14  Humidity3pm    145460 non-null  float64\n",
      " 15  Pressure9am    145460 non-null  float64\n",
      " 16  Pressure3pm    145460 non-null  float64\n",
      " 17  Cloud9am       145460 non-null  float64\n",
      " 18  Cloud3pm       145460 non-null  float64\n",
      " 19  Temp9am        145460 non-null  float64\n",
      " 20  Temp3pm        145460 non-null  float64\n",
      " 21  RainToday      145460 non-null  float64\n",
      " 22  RainTomorrow   145460 non-null  float64\n",
      "dtypes: float64(18), int32(5)\n",
      "memory usage: 22.8 MB\n"
     ]
    }
   ],
   "source": [
    "\n",
    "\n",
    "# Apply label encoder to each column with categorical data:The code uses LabelEncoder() from scikit-learn library to transform \n",
    "#categorical variables into numerical variables. The for loop iterates over the categorical columns of the rain_df dataframe \n",
    "#and applies the label encoder to each column. Finally, it prints the info of the dataframe.\n",
    "\n",
    "from sklearn.preprocessing import LabelEncoder # Import LabelEncoder from sklearn.preprocessing module\n",
    "\n",
    "label_encoder = LabelEncoder() # Create an instance of LabelEncoder\n",
    "\n",
    "for i in object_cols:\n",
    "    # Apply label encoding to the column i in rain_df using the fit_transform() method of LabelEncoder\n",
    "    rain_df[i] = label_encoder.fit_transform(rain_df[i])\n",
    "    \n",
    "rain_df.info() # Print information about the DataFrame rain_df after label encoding has been applied\n"
   ]
  },
  {
   "attachments": {},
   "cell_type": "markdown",
   "metadata": {},
   "source": [
    "### 3) Feature Scaling\n",
    "\n",
    "Reason for feature scaling before detecting outliers: \n",
    "* Ensures that all features contribute equally to the outlier detection process"
   ]
  },
  {
   "cell_type": "code",
   "execution_count": 70,
   "metadata": {
    "scrolled": false
   },
   "outputs": [
    {
     "data": {
      "text/html": [
       "<div>\n",
       "<style scoped>\n",
       "    .dataframe tbody tr th:only-of-type {\n",
       "        vertical-align: middle;\n",
       "    }\n",
       "\n",
       "    .dataframe tbody tr th {\n",
       "        vertical-align: top;\n",
       "    }\n",
       "\n",
       "    .dataframe thead th {\n",
       "        text-align: right;\n",
       "    }\n",
       "</style>\n",
       "<table border=\"1\" class=\"dataframe\">\n",
       "  <thead>\n",
       "    <tr style=\"text-align: right;\">\n",
       "      <th></th>\n",
       "      <th>count</th>\n",
       "      <th>mean</th>\n",
       "      <th>std</th>\n",
       "      <th>min</th>\n",
       "      <th>25%</th>\n",
       "      <th>50%</th>\n",
       "      <th>75%</th>\n",
       "      <th>max</th>\n",
       "    </tr>\n",
       "  </thead>\n",
       "  <tbody>\n",
       "    <tr>\n",
       "      <th>Location</th>\n",
       "      <td>145460.0</td>\n",
       "      <td>-5.633017e-14</td>\n",
       "      <td>1.000003</td>\n",
       "      <td>-1.672228</td>\n",
       "      <td>-0.899139</td>\n",
       "      <td>0.014511</td>\n",
       "      <td>0.857881</td>\n",
       "      <td>1.701250</td>\n",
       "    </tr>\n",
       "    <tr>\n",
       "      <th>MinTemp</th>\n",
       "      <td>145460.0</td>\n",
       "      <td>-4.243854e-15</td>\n",
       "      <td>1.000003</td>\n",
       "      <td>-3.250525</td>\n",
       "      <td>-0.705659</td>\n",
       "      <td>-0.030170</td>\n",
       "      <td>0.723865</td>\n",
       "      <td>3.410112</td>\n",
       "    </tr>\n",
       "    <tr>\n",
       "      <th>MaxTemp</th>\n",
       "      <td>145460.0</td>\n",
       "      <td>6.513740e-16</td>\n",
       "      <td>1.000003</td>\n",
       "      <td>-3.952405</td>\n",
       "      <td>-0.735852</td>\n",
       "      <td>-0.086898</td>\n",
       "      <td>0.703133</td>\n",
       "      <td>3.510563</td>\n",
       "    </tr>\n",
       "    <tr>\n",
       "      <th>Rainfall</th>\n",
       "      <td>145460.0</td>\n",
       "      <td>9.152711e-15</td>\n",
       "      <td>1.000003</td>\n",
       "      <td>-0.275097</td>\n",
       "      <td>-0.275097</td>\n",
       "      <td>-0.275097</td>\n",
       "      <td>-0.203581</td>\n",
       "      <td>43.945571</td>\n",
       "    </tr>\n",
       "    <tr>\n",
       "      <th>Evaporation</th>\n",
       "      <td>145460.0</td>\n",
       "      <td>1.352327e-14</td>\n",
       "      <td>1.000003</td>\n",
       "      <td>-1.629472</td>\n",
       "      <td>-0.371139</td>\n",
       "      <td>-0.119472</td>\n",
       "      <td>0.006361</td>\n",
       "      <td>43.985108</td>\n",
       "    </tr>\n",
       "    <tr>\n",
       "      <th>Sunshine</th>\n",
       "      <td>145460.0</td>\n",
       "      <td>-4.338304e-15</td>\n",
       "      <td>1.000003</td>\n",
       "      <td>-2.897217</td>\n",
       "      <td>0.076188</td>\n",
       "      <td>0.148710</td>\n",
       "      <td>0.257494</td>\n",
       "      <td>2.360634</td>\n",
       "    </tr>\n",
       "    <tr>\n",
       "      <th>WindGustDir</th>\n",
       "      <td>145460.0</td>\n",
       "      <td>1.864381e-14</td>\n",
       "      <td>1.000003</td>\n",
       "      <td>-1.724209</td>\n",
       "      <td>-0.872075</td>\n",
       "      <td>0.193094</td>\n",
       "      <td>1.045228</td>\n",
       "      <td>1.471296</td>\n",
       "    </tr>\n",
       "    <tr>\n",
       "      <th>WindGustSpeed</th>\n",
       "      <td>145460.0</td>\n",
       "      <td>-1.167921e-14</td>\n",
       "      <td>1.000003</td>\n",
       "      <td>-2.588407</td>\n",
       "      <td>-0.683048</td>\n",
       "      <td>-0.073333</td>\n",
       "      <td>0.460168</td>\n",
       "      <td>7.243246</td>\n",
       "    </tr>\n",
       "    <tr>\n",
       "      <th>WindDir9am</th>\n",
       "      <td>145460.0</td>\n",
       "      <td>-7.433272e-15</td>\n",
       "      <td>1.000003</td>\n",
       "      <td>-1.550000</td>\n",
       "      <td>-0.885669</td>\n",
       "      <td>0.000105</td>\n",
       "      <td>0.885879</td>\n",
       "      <td>1.771653</td>\n",
       "    </tr>\n",
       "    <tr>\n",
       "      <th>WindDir3pm</th>\n",
       "      <td>145460.0</td>\n",
       "      <td>1.791486e-15</td>\n",
       "      <td>1.000003</td>\n",
       "      <td>-1.718521</td>\n",
       "      <td>-0.837098</td>\n",
       "      <td>0.044324</td>\n",
       "      <td>0.925747</td>\n",
       "      <td>1.586813</td>\n",
       "    </tr>\n",
       "    <tr>\n",
       "      <th>WindSpeed9am</th>\n",
       "      <td>145460.0</td>\n",
       "      <td>-3.422029e-14</td>\n",
       "      <td>1.000003</td>\n",
       "      <td>-1.583291</td>\n",
       "      <td>-0.793380</td>\n",
       "      <td>-0.116314</td>\n",
       "      <td>0.560752</td>\n",
       "      <td>13.086472</td>\n",
       "    </tr>\n",
       "    <tr>\n",
       "      <th>WindSpeed3pm</th>\n",
       "      <td>145460.0</td>\n",
       "      <td>1.618238e-14</td>\n",
       "      <td>1.000003</td>\n",
       "      <td>-2.141841</td>\n",
       "      <td>-0.650449</td>\n",
       "      <td>0.037886</td>\n",
       "      <td>0.611499</td>\n",
       "      <td>7.839016</td>\n",
       "    </tr>\n",
       "    <tr>\n",
       "      <th>Humidity9am</th>\n",
       "      <td>145460.0</td>\n",
       "      <td>-4.803490e-15</td>\n",
       "      <td>1.000003</td>\n",
       "      <td>-3.654212</td>\n",
       "      <td>-0.631189</td>\n",
       "      <td>0.058273</td>\n",
       "      <td>0.747734</td>\n",
       "      <td>1.649338</td>\n",
       "    </tr>\n",
       "    <tr>\n",
       "      <th>Humidity3pm</th>\n",
       "      <td>145460.0</td>\n",
       "      <td>-6.041889e-15</td>\n",
       "      <td>1.000003</td>\n",
       "      <td>-2.518329</td>\n",
       "      <td>-0.710918</td>\n",
       "      <td>0.021816</td>\n",
       "      <td>0.656852</td>\n",
       "      <td>2.366565</td>\n",
       "    </tr>\n",
       "    <tr>\n",
       "      <th>Pressure9am</th>\n",
       "      <td>145460.0</td>\n",
       "      <td>2.313398e-14</td>\n",
       "      <td>1.000003</td>\n",
       "      <td>-5.520544</td>\n",
       "      <td>-0.616005</td>\n",
       "      <td>-0.006653</td>\n",
       "      <td>0.617561</td>\n",
       "      <td>3.471111</td>\n",
       "    </tr>\n",
       "    <tr>\n",
       "      <th>Pressure3pm</th>\n",
       "      <td>145460.0</td>\n",
       "      <td>4.709575e-15</td>\n",
       "      <td>1.000003</td>\n",
       "      <td>-5.724832</td>\n",
       "      <td>-0.622769</td>\n",
       "      <td>-0.007520</td>\n",
       "      <td>0.622735</td>\n",
       "      <td>3.653960</td>\n",
       "    </tr>\n",
       "    <tr>\n",
       "      <th>Cloud9am</th>\n",
       "      <td>145460.0</td>\n",
       "      <td>-2.525820e-14</td>\n",
       "      <td>1.000003</td>\n",
       "      <td>-2.042425</td>\n",
       "      <td>-0.727490</td>\n",
       "      <td>0.149133</td>\n",
       "      <td>0.587445</td>\n",
       "      <td>1.902380</td>\n",
       "    </tr>\n",
       "    <tr>\n",
       "      <th>Cloud3pm</th>\n",
       "      <td>145460.0</td>\n",
       "      <td>4.796901e-15</td>\n",
       "      <td>1.000003</td>\n",
       "      <td>-2.235619</td>\n",
       "      <td>-0.336969</td>\n",
       "      <td>0.137693</td>\n",
       "      <td>0.612356</td>\n",
       "      <td>2.036343</td>\n",
       "    </tr>\n",
       "    <tr>\n",
       "      <th>Temp9am</th>\n",
       "      <td>145460.0</td>\n",
       "      <td>-3.332880e-15</td>\n",
       "      <td>1.000003</td>\n",
       "      <td>-3.750358</td>\n",
       "      <td>-0.726764</td>\n",
       "      <td>-0.044517</td>\n",
       "      <td>0.699753</td>\n",
       "      <td>3.599302</td>\n",
       "    </tr>\n",
       "    <tr>\n",
       "      <th>Temp3pm</th>\n",
       "      <td>145460.0</td>\n",
       "      <td>-2.901899e-15</td>\n",
       "      <td>1.000003</td>\n",
       "      <td>-3.951301</td>\n",
       "      <td>-0.725322</td>\n",
       "      <td>-0.083046</td>\n",
       "      <td>0.661411</td>\n",
       "      <td>3.653834</td>\n",
       "    </tr>\n",
       "    <tr>\n",
       "      <th>RainToday</th>\n",
       "      <td>145460.0</td>\n",
       "      <td>1.263303e-14</td>\n",
       "      <td>1.000003</td>\n",
       "      <td>-0.529795</td>\n",
       "      <td>-0.529795</td>\n",
       "      <td>-0.529795</td>\n",
       "      <td>-0.529795</td>\n",
       "      <td>1.887521</td>\n",
       "    </tr>\n",
       "  </tbody>\n",
       "</table>\n",
       "</div>"
      ],
      "text/plain": [
       "                  count          mean       std       min       25%       50%  \\\n",
       "Location       145460.0 -5.633017e-14  1.000003 -1.672228 -0.899139  0.014511   \n",
       "MinTemp        145460.0 -4.243854e-15  1.000003 -3.250525 -0.705659 -0.030170   \n",
       "MaxTemp        145460.0  6.513740e-16  1.000003 -3.952405 -0.735852 -0.086898   \n",
       "Rainfall       145460.0  9.152711e-15  1.000003 -0.275097 -0.275097 -0.275097   \n",
       "Evaporation    145460.0  1.352327e-14  1.000003 -1.629472 -0.371139 -0.119472   \n",
       "Sunshine       145460.0 -4.338304e-15  1.000003 -2.897217  0.076188  0.148710   \n",
       "WindGustDir    145460.0  1.864381e-14  1.000003 -1.724209 -0.872075  0.193094   \n",
       "WindGustSpeed  145460.0 -1.167921e-14  1.000003 -2.588407 -0.683048 -0.073333   \n",
       "WindDir9am     145460.0 -7.433272e-15  1.000003 -1.550000 -0.885669  0.000105   \n",
       "WindDir3pm     145460.0  1.791486e-15  1.000003 -1.718521 -0.837098  0.044324   \n",
       "WindSpeed9am   145460.0 -3.422029e-14  1.000003 -1.583291 -0.793380 -0.116314   \n",
       "WindSpeed3pm   145460.0  1.618238e-14  1.000003 -2.141841 -0.650449  0.037886   \n",
       "Humidity9am    145460.0 -4.803490e-15  1.000003 -3.654212 -0.631189  0.058273   \n",
       "Humidity3pm    145460.0 -6.041889e-15  1.000003 -2.518329 -0.710918  0.021816   \n",
       "Pressure9am    145460.0  2.313398e-14  1.000003 -5.520544 -0.616005 -0.006653   \n",
       "Pressure3pm    145460.0  4.709575e-15  1.000003 -5.724832 -0.622769 -0.007520   \n",
       "Cloud9am       145460.0 -2.525820e-14  1.000003 -2.042425 -0.727490  0.149133   \n",
       "Cloud3pm       145460.0  4.796901e-15  1.000003 -2.235619 -0.336969  0.137693   \n",
       "Temp9am        145460.0 -3.332880e-15  1.000003 -3.750358 -0.726764 -0.044517   \n",
       "Temp3pm        145460.0 -2.901899e-15  1.000003 -3.951301 -0.725322 -0.083046   \n",
       "RainToday      145460.0  1.263303e-14  1.000003 -0.529795 -0.529795 -0.529795   \n",
       "\n",
       "                    75%        max  \n",
       "Location       0.857881   1.701250  \n",
       "MinTemp        0.723865   3.410112  \n",
       "MaxTemp        0.703133   3.510563  \n",
       "Rainfall      -0.203581  43.945571  \n",
       "Evaporation    0.006361  43.985108  \n",
       "Sunshine       0.257494   2.360634  \n",
       "WindGustDir    1.045228   1.471296  \n",
       "WindGustSpeed  0.460168   7.243246  \n",
       "WindDir9am     0.885879   1.771653  \n",
       "WindDir3pm     0.925747   1.586813  \n",
       "WindSpeed9am   0.560752  13.086472  \n",
       "WindSpeed3pm   0.611499   7.839016  \n",
       "Humidity9am    0.747734   1.649338  \n",
       "Humidity3pm    0.656852   2.366565  \n",
       "Pressure9am    0.617561   3.471111  \n",
       "Pressure3pm    0.622735   3.653960  \n",
       "Cloud9am       0.587445   1.902380  \n",
       "Cloud3pm       0.612356   2.036343  \n",
       "Temp9am        0.699753   3.599302  \n",
       "Temp3pm        0.661411   3.653834  \n",
       "RainToday     -0.529795   1.887521  "
      ]
     },
     "execution_count": 70,
     "metadata": {},
     "output_type": "execute_result"
    }
   ],
   "source": [
    "# Prepairing attributes of scale data: performs feature scaling on the dataset using a standard scaler and generates descriptive \n",
    "#statistics for the scaled features. The target variable and the 'Date' column are dropped before scaling.\n",
    "#from sklearn import preprocessing\n",
    "\n",
    "\n",
    "from sklearn import preprocessing\n",
    "\n",
    "# Drop the target and extra columns from the features DataFrame\n",
    "features = rain_df.drop(['RainTomorrow', 'Date'], axis=1)\n",
    "\n",
    "target = rain_df['RainTomorrow'] # Assign the 'RainTomorrow' column to the target variable\n",
    "\n",
    "# Set up a standard scaler for the features\n",
    "col_names = list(features.columns)\n",
    "s_scaler = preprocessing.StandardScaler()\n",
    "\n",
    "features = s_scaler.fit_transform(features)\n",
    "\n",
    "features = pd.DataFrame(features, columns=col_names) # Convert the scaled features back to a DataFrame with original column names\n",
    "\n",
    "features.describe().T"
   ]
  },
  {
   "attachments": {},
   "cell_type": "markdown",
   "metadata": {},
   "source": [
    "## 4) Detecting And Dropping Outliers"
   ]
  },
  {
   "attachments": {},
   "cell_type": "markdown",
   "metadata": {},
   "source": [
    "*Outliers Visualization*"
   ]
  },
  {
   "cell_type": "code",
   "execution_count": 71,
   "metadata": {
    "scrolled": true
   },
   "outputs": [
    {
     "data": {
      "image/png": "[encoded data removed]",
      "text/plain": [
       "<Figure size 1440x720 with 1 Axes>"
      ]
     },
     "metadata": {
      "needs_background": "light"
     },
     "output_type": "display_data"
    }
   ],
   "source": [
    "\n",
    "#Detecting outliers:creates a boxenplot for each feature in the features dataframe using seaborn, with a black color palette.\n",
    "#looking at the scaled features\n",
    "colours = [\"#000000\"]\n",
    "plt.figure(figsize=(20,10))\n",
    "sns.boxenplot(data = features,palette = colours)\n",
    "plt.xticks(rotation=90)\n",
    "plt.show()"
   ]
  },
  {
   "attachments": {},
   "cell_type": "markdown",
   "metadata": {},
   "source": [
    "*Drop the outliers*\n",
    "\n",
    "##### How to calculate the outliers:\n",
    "\n",
    "* Calculate the IQR of the dataset: IQR = Q3 (third quartile) - Q1 (first quartile)\n",
    "\n",
    "* Define the lower bound for outliers: Q1 - (1.5 * IQR)\n",
    "\n",
    "* Define the upper bound for outliers: Q3 + (1.5 * IQR)\n"
   ]
  },
  {
   "cell_type": "code",
   "execution_count": 72,
   "metadata": {},
   "outputs": [
    {
     "data": {
      "text/plain": [
       "(127536, 22)"
      ]
     },
     "execution_count": 72,
     "metadata": {},
     "output_type": "execute_result"
    }
   ],
   "source": [
    "\n",
    "#adds the target variable \"RainTomorrow\" back to the features dataframe.\n",
    "\n",
    "features[\"RainTomorrow\"] = target\n",
    "\n",
    "#Dropping with outlier:This code filters the features dataframe by removing rows that have values outside certain ranges for specific columns.\n",
    "# The ranges are likely determined based on domain knowledge or statistical analysis.\n",
    "\n",
    "features = features[(features[\"MinTemp\"]<2.3)&(features[\"MinTemp\"]>-2.3)]\n",
    "features = features[(features[\"MaxTemp\"]<2.3)&(features[\"MaxTemp\"]>-2)]\n",
    "features = features[(features[\"Rainfall\"]<4.5)]\n",
    "features = features[(features[\"Evaporation\"]<2.8)]\n",
    "features = features[(features[\"Sunshine\"]<2.1)]\n",
    "features = features[(features[\"WindGustSpeed\"]<4)&(features[\"WindGustSpeed\"]>-4)]\n",
    "features = features[(features[\"WindSpeed9am\"]<4)]\n",
    "features = features[(features[\"WindSpeed3pm\"]<2.5)]\n",
    "features = features[(features[\"Humidity9am\"]>-3)]\n",
    "features = features[(features[\"Humidity3pm\"]>-2.2)]\n",
    "features = features[(features[\"Pressure9am\"]< 2)&(features[\"Pressure9am\"]>-2.7)]\n",
    "features = features[(features[\"Pressure3pm\"]< 2)&(features[\"Pressure3pm\"]>-2.7)]\n",
    "features = features[(features[\"Cloud9am\"]<1.8)]\n",
    "features = features[(features[\"Cloud3pm\"]<2)]\n",
    "features = features[(features[\"Temp9am\"]<2.3)&(features[\"Temp9am\"]>-2)]\n",
    "features = features[(features[\"Temp3pm\"]<2.3)&(features[\"Temp3pm\"]>-2)]\n",
    "\n",
    "\n",
    "features.shape"
   ]
  },
  {
   "cell_type": "code",
   "execution_count": 73,
   "metadata": {},
   "outputs": [],
   "source": [
    "\n",
    "\n",
    "#sets the variable rain_df to the features dataframe, which has had outlier data removed.\n",
    "\n",
    "rain_df = features #set features dataframe to rain_df(original dataframe)"
   ]
  },
  {
   "cell_type": "code",
   "execution_count": 74,
   "metadata": {},
   "outputs": [
    {
     "data": {
      "text/html": [
       "<div>\n",
       "<style scoped>\n",
       "    .dataframe tbody tr th:only-of-type {\n",
       "        vertical-align: middle;\n",
       "    }\n",
       "\n",
       "    .dataframe tbody tr th {\n",
       "        vertical-align: top;\n",
       "    }\n",
       "\n",
       "    .dataframe thead th {\n",
       "        text-align: right;\n",
       "    }\n",
       "</style>\n",
       "<table border=\"1\" class=\"dataframe\">\n",
       "  <thead>\n",
       "    <tr style=\"text-align: right;\">\n",
       "      <th></th>\n",
       "      <th>Location</th>\n",
       "      <th>MinTemp</th>\n",
       "      <th>MaxTemp</th>\n",
       "      <th>Rainfall</th>\n",
       "      <th>Evaporation</th>\n",
       "      <th>Sunshine</th>\n",
       "      <th>WindGustDir</th>\n",
       "      <th>WindGustSpeed</th>\n",
       "      <th>WindDir9am</th>\n",
       "      <th>WindDir3pm</th>\n",
       "      <th>...</th>\n",
       "      <th>Humidity9am</th>\n",
       "      <th>Humidity3pm</th>\n",
       "      <th>Pressure9am</th>\n",
       "      <th>Pressure3pm</th>\n",
       "      <th>Cloud9am</th>\n",
       "      <th>Cloud3pm</th>\n",
       "      <th>Temp9am</th>\n",
       "      <th>Temp3pm</th>\n",
       "      <th>RainToday</th>\n",
       "      <th>RainTomorrow</th>\n",
       "    </tr>\n",
       "  </thead>\n",
       "  <tbody>\n",
       "    <tr>\n",
       "      <th>0</th>\n",
       "      <td>-1.531666</td>\n",
       "      <td>0.189757</td>\n",
       "      <td>-0.044575</td>\n",
       "      <td>-0.203581</td>\n",
       "      <td>-0.119472</td>\n",
       "      <td>0.14871</td>\n",
       "      <td>1.045228</td>\n",
       "      <td>0.307739</td>\n",
       "      <td>1.328766</td>\n",
       "      <td>1.366458</td>\n",
       "      <td>...</td>\n",
       "      <td>0.111308</td>\n",
       "      <td>-1.443652</td>\n",
       "      <td>-1.478015</td>\n",
       "      <td>-1.223012</td>\n",
       "      <td>1.464068</td>\n",
       "      <td>0.137693</td>\n",
       "      <td>-0.013506</td>\n",
       "      <td>0.019135</td>\n",
       "      <td>-0.529795</td>\n",
       "      <td>0.0</td>\n",
       "    </tr>\n",
       "    <tr>\n",
       "      <th>1</th>\n",
       "      <td>-1.531666</td>\n",
       "      <td>-0.752786</td>\n",
       "      <td>0.265794</td>\n",
       "      <td>-0.275097</td>\n",
       "      <td>-0.119472</td>\n",
       "      <td>0.14871</td>\n",
       "      <td>1.258262</td>\n",
       "      <td>0.307739</td>\n",
       "      <td>-0.221338</td>\n",
       "      <td>1.586813</td>\n",
       "      <td>...</td>\n",
       "      <td>-1.320650</td>\n",
       "      <td>-1.297105</td>\n",
       "      <td>-1.047010</td>\n",
       "      <td>-1.117969</td>\n",
       "      <td>0.149133</td>\n",
       "      <td>0.137693</td>\n",
       "      <td>0.033011</td>\n",
       "      <td>0.384064</td>\n",
       "      <td>-0.529795</td>\n",
       "      <td>0.0</td>\n",
       "    </tr>\n",
       "    <tr>\n",
       "      <th>2</th>\n",
       "      <td>-1.531666</td>\n",
       "      <td>0.111212</td>\n",
       "      <td>0.350440</td>\n",
       "      <td>-0.275097</td>\n",
       "      <td>-0.119472</td>\n",
       "      <td>0.14871</td>\n",
       "      <td>1.471296</td>\n",
       "      <td>0.460168</td>\n",
       "      <td>1.328766</td>\n",
       "      <td>1.586813</td>\n",
       "      <td>...</td>\n",
       "      <td>-1.638863</td>\n",
       "      <td>-1.052860</td>\n",
       "      <td>-1.492877</td>\n",
       "      <td>-0.982915</td>\n",
       "      <td>0.149133</td>\n",
       "      <td>-1.286294</td>\n",
       "      <td>0.622225</td>\n",
       "      <td>0.223495</td>\n",
       "      <td>-0.529795</td>\n",
       "      <td>0.0</td>\n",
       "    </tr>\n",
       "    <tr>\n",
       "      <th>3</th>\n",
       "      <td>-1.531666</td>\n",
       "      <td>-0.470023</td>\n",
       "      <td>0.674917</td>\n",
       "      <td>-0.275097</td>\n",
       "      <td>-0.119472</td>\n",
       "      <td>0.14871</td>\n",
       "      <td>-0.872075</td>\n",
       "      <td>-1.216548</td>\n",
       "      <td>0.442992</td>\n",
       "      <td>-1.718521</td>\n",
       "      <td>...</td>\n",
       "      <td>-1.267615</td>\n",
       "      <td>-1.736746</td>\n",
       "      <td>-0.006653</td>\n",
       "      <td>-0.367666</td>\n",
       "      <td>0.149133</td>\n",
       "      <td>0.137693</td>\n",
       "      <td>0.172562</td>\n",
       "      <td>0.705202</td>\n",
       "      <td>-0.529795</td>\n",
       "      <td>0.0</td>\n",
       "    </tr>\n",
       "    <tr>\n",
       "      <th>4</th>\n",
       "      <td>-1.531666</td>\n",
       "      <td>0.833828</td>\n",
       "      <td>1.281548</td>\n",
       "      <td>-0.155903</td>\n",
       "      <td>-0.119472</td>\n",
       "      <td>0.14871</td>\n",
       "      <td>1.045228</td>\n",
       "      <td>0.079096</td>\n",
       "      <td>-1.328556</td>\n",
       "      <td>-0.176032</td>\n",
       "      <td>...</td>\n",
       "      <td>0.694699</td>\n",
       "      <td>-0.906314</td>\n",
       "      <td>-1.017286</td>\n",
       "      <td>-1.388078</td>\n",
       "      <td>1.025756</td>\n",
       "      <td>1.561680</td>\n",
       "      <td>0.126045</td>\n",
       "      <td>1.172312</td>\n",
       "      <td>-0.529795</td>\n",
       "      <td>0.0</td>\n",
       "    </tr>\n",
       "    <tr>\n",
       "      <th>...</th>\n",
       "      <td>...</td>\n",
       "      <td>...</td>\n",
       "      <td>...</td>\n",
       "      <td>...</td>\n",
       "      <td>...</td>\n",
       "      <td>...</td>\n",
       "      <td>...</td>\n",
       "      <td>...</td>\n",
       "      <td>...</td>\n",
       "      <td>...</td>\n",
       "      <td>...</td>\n",
       "      <td>...</td>\n",
       "      <td>...</td>\n",
       "      <td>...</td>\n",
       "      <td>...</td>\n",
       "      <td>...</td>\n",
       "      <td>...</td>\n",
       "      <td>...</td>\n",
       "      <td>...</td>\n",
       "      <td>...</td>\n",
       "      <td>...</td>\n",
       "    </tr>\n",
       "    <tr>\n",
       "      <th>145455</th>\n",
       "      <td>1.209285</td>\n",
       "      <td>-1.475402</td>\n",
       "      <td>0.025964</td>\n",
       "      <td>-0.275097</td>\n",
       "      <td>-0.119472</td>\n",
       "      <td>0.14871</td>\n",
       "      <td>-1.724209</td>\n",
       "      <td>-0.683048</td>\n",
       "      <td>0.442992</td>\n",
       "      <td>-1.498165</td>\n",
       "      <td>...</td>\n",
       "      <td>-0.949402</td>\n",
       "      <td>-1.345954</td>\n",
       "      <td>1.033703</td>\n",
       "      <td>0.757789</td>\n",
       "      <td>0.149133</td>\n",
       "      <td>0.137693</td>\n",
       "      <td>-1.067887</td>\n",
       "      <td>0.106718</td>\n",
       "      <td>-0.529795</td>\n",
       "      <td>0.0</td>\n",
       "    </tr>\n",
       "    <tr>\n",
       "      <th>145456</th>\n",
       "      <td>1.209285</td>\n",
       "      <td>-1.349730</td>\n",
       "      <td>0.294010</td>\n",
       "      <td>-0.275097</td>\n",
       "      <td>-0.119472</td>\n",
       "      <td>0.14871</td>\n",
       "      <td>-0.446007</td>\n",
       "      <td>-1.368977</td>\n",
       "      <td>0.442992</td>\n",
       "      <td>-1.057454</td>\n",
       "      <td>...</td>\n",
       "      <td>-0.684224</td>\n",
       "      <td>-1.492501</td>\n",
       "      <td>0.870219</td>\n",
       "      <td>0.577716</td>\n",
       "      <td>0.149133</td>\n",
       "      <td>0.137693</td>\n",
       "      <td>-0.943842</td>\n",
       "      <td>0.413259</td>\n",
       "      <td>-0.529795</td>\n",
       "      <td>0.0</td>\n",
       "    </tr>\n",
       "    <tr>\n",
       "      <th>145457</th>\n",
       "      <td>1.209285</td>\n",
       "      <td>-1.066967</td>\n",
       "      <td>0.519733</td>\n",
       "      <td>-0.275097</td>\n",
       "      <td>-0.119472</td>\n",
       "      <td>0.14871</td>\n",
       "      <td>-1.085108</td>\n",
       "      <td>-0.225761</td>\n",
       "      <td>0.442992</td>\n",
       "      <td>1.366458</td>\n",
       "      <td>...</td>\n",
       "      <td>-0.843331</td>\n",
       "      <td>-1.345954</td>\n",
       "      <td>0.498663</td>\n",
       "      <td>0.232577</td>\n",
       "      <td>0.149133</td>\n",
       "      <td>0.137693</td>\n",
       "      <td>-0.695753</td>\n",
       "      <td>0.646814</td>\n",
       "      <td>-0.529795</td>\n",
       "      <td>0.0</td>\n",
       "    </tr>\n",
       "    <tr>\n",
       "      <th>145458</th>\n",
       "      <td>1.209285</td>\n",
       "      <td>-0.689950</td>\n",
       "      <td>0.533840</td>\n",
       "      <td>-0.275097</td>\n",
       "      <td>-0.119472</td>\n",
       "      <td>0.14871</td>\n",
       "      <td>0.193094</td>\n",
       "      <td>-0.911691</td>\n",
       "      <td>0.664436</td>\n",
       "      <td>-1.057454</td>\n",
       "      <td>...</td>\n",
       "      <td>-0.949402</td>\n",
       "      <td>-1.345954</td>\n",
       "      <td>0.260867</td>\n",
       "      <td>0.187559</td>\n",
       "      <td>-0.727490</td>\n",
       "      <td>-1.286294</td>\n",
       "      <td>-0.292607</td>\n",
       "      <td>0.632217</td>\n",
       "      <td>-0.529795</td>\n",
       "      <td>0.0</td>\n",
       "    </tr>\n",
       "    <tr>\n",
       "      <th>145459</th>\n",
       "      <td>1.209285</td>\n",
       "      <td>0.425393</td>\n",
       "      <td>-0.086898</td>\n",
       "      <td>-0.275097</td>\n",
       "      <td>-0.119472</td>\n",
       "      <td>0.14871</td>\n",
       "      <td>1.045228</td>\n",
       "      <td>-0.073333</td>\n",
       "      <td>-1.107113</td>\n",
       "      <td>-1.277810</td>\n",
       "      <td>...</td>\n",
       "      <td>-0.366011</td>\n",
       "      <td>-0.759767</td>\n",
       "      <td>0.379765</td>\n",
       "      <td>0.397644</td>\n",
       "      <td>1.464068</td>\n",
       "      <td>1.561680</td>\n",
       "      <td>-0.308112</td>\n",
       "      <td>-0.112240</td>\n",
       "      <td>-0.529795</td>\n",
       "      <td>0.0</td>\n",
       "    </tr>\n",
       "  </tbody>\n",
       "</table>\n",
       "<p>127536 rows × 22 columns</p>\n",
       "</div>"
      ],
      "text/plain": [
       "        Location   MinTemp   MaxTemp  Rainfall  Evaporation  Sunshine  \\\n",
       "0      -1.531666  0.189757 -0.044575 -0.203581    -0.119472   0.14871   \n",
       "1      -1.531666 -0.752786  0.265794 -0.275097    -0.119472   0.14871   \n",
       "2      -1.531666  0.111212  0.350440 -0.275097    -0.119472   0.14871   \n",
       "3      -1.531666 -0.470023  0.674917 -0.275097    -0.119472   0.14871   \n",
       "4      -1.531666  0.833828  1.281548 -0.155903    -0.119472   0.14871   \n",
       "...          ...       ...       ...       ...          ...       ...   \n",
       "145455  1.209285 -1.475402  0.025964 -0.275097    -0.119472   0.14871   \n",
       "145456  1.209285 -1.349730  0.294010 -0.275097    -0.119472   0.14871   \n",
       "145457  1.209285 -1.066967  0.519733 -0.275097    -0.119472   0.14871   \n",
       "145458  1.209285 -0.689950  0.533840 -0.275097    -0.119472   0.14871   \n",
       "145459  1.209285  0.425393 -0.086898 -0.275097    -0.119472   0.14871   \n",
       "\n",
       "        WindGustDir  WindGustSpeed  WindDir9am  WindDir3pm  ...  Humidity9am  \\\n",
       "0          1.045228       0.307739    1.328766    1.366458  ...     0.111308   \n",
       "1          1.258262       0.307739   -0.221338    1.586813  ...    -1.320650   \n",
       "2          1.471296       0.460168    1.328766    1.586813  ...    -1.638863   \n",
       "3         -0.872075      -1.216548    0.442992   -1.718521  ...    -1.267615   \n",
       "4          1.045228       0.079096   -1.328556   -0.176032  ...     0.694699   \n",
       "...             ...            ...         ...         ...  ...          ...   \n",
       "145455    -1.724209      -0.683048    0.442992   -1.498165  ...    -0.949402   \n",
       "145456    -0.446007      -1.368977    0.442992   -1.057454  ...    -0.684224   \n",
       "145457    -1.085108      -0.225761    0.442992    1.366458  ...    -0.843331   \n",
       "145458     0.193094      -0.911691    0.664436   -1.057454  ...    -0.949402   \n",
       "145459     1.045228      -0.073333   -1.107113   -1.277810  ...    -0.366011   \n",
       "\n",
       "        Humidity3pm  Pressure9am  Pressure3pm  Cloud9am  Cloud3pm   Temp9am  \\\n",
       "0         -1.443652    -1.478015    -1.223012  1.464068  0.137693 -0.013506   \n",
       "1         -1.297105    -1.047010    -1.117969  0.149133  0.137693  0.033011   \n",
       "2         -1.052860    -1.492877    -0.982915  0.149133 -1.286294  0.622225   \n",
       "3         -1.736746    -0.006653    -0.367666  0.149133  0.137693  0.172562   \n",
       "4         -0.906314    -1.017286    -1.388078  1.025756  1.561680  0.126045   \n",
       "...             ...          ...          ...       ...       ...       ...   \n",
       "145455    -1.345954     1.033703     0.757789  0.149133  0.137693 -1.067887   \n",
       "145456    -1.492501     0.870219     0.577716  0.149133  0.137693 -0.943842   \n",
       "145457    -1.345954     0.498663     0.232577  0.149133  0.137693 -0.695753   \n",
       "145458    -1.345954     0.260867     0.187559 -0.727490 -1.286294 -0.292607   \n",
       "145459    -0.759767     0.379765     0.397644  1.464068  1.561680 -0.308112   \n",
       "\n",
       "         Temp3pm  RainToday  RainTomorrow  \n",
       "0       0.019135  -0.529795           0.0  \n",
       "1       0.384064  -0.529795           0.0  \n",
       "2       0.223495  -0.529795           0.0  \n",
       "3       0.705202  -0.529795           0.0  \n",
       "4       1.172312  -0.529795           0.0  \n",
       "...          ...        ...           ...  \n",
       "145455  0.106718  -0.529795           0.0  \n",
       "145456  0.413259  -0.529795           0.0  \n",
       "145457  0.646814  -0.529795           0.0  \n",
       "145458  0.632217  -0.529795           0.0  \n",
       "145459 -0.112240  -0.529795           0.0  \n",
       "\n",
       "[127536 rows x 22 columns]"
      ]
     },
     "execution_count": 74,
     "metadata": {},
     "output_type": "execute_result"
    }
   ],
   "source": [
    "rain_df"
   ]
  },
  {
   "cell_type": "markdown",
   "metadata": {},
   "source": [
    "As the result, there are only 127536 attribute vectors left, there are 17924 datapoints that do not meet standards, are classified as extreme outliers and removed from the  dataset (12.3% reduction)"
   ]
  },
  {
   "attachments": {},
   "cell_type": "markdown",
   "metadata": {},
   "source": [
    "*Create new index*"
   ]
  },
  {
   "cell_type": "markdown",
   "metadata": {},
   "source": [
    "In order to avoid miss-indexing, we have to reset index of new dataset"
   ]
  },
  {
   "cell_type": "code",
   "execution_count": 75,
   "metadata": {},
   "outputs": [],
   "source": [
    "#Create an index array\n",
    "index=pd.Index([i for i in range(127536)])\n",
    "#Reset the index of dataframe\n",
    "rain_df.index=index"
   ]
  },
  {
   "cell_type": "code",
   "execution_count": 76,
   "metadata": {
    "scrolled": true
   },
   "outputs": [
    {
     "data": {
      "text/plain": [
       "(127536, 22)"
      ]
     },
     "execution_count": 76,
     "metadata": {},
     "output_type": "execute_result"
    }
   ],
   "source": [
    "#Check the dataset reset \n",
    "rain_df.shape"
   ]
  },
  {
   "attachments": {},
   "cell_type": "markdown",
   "metadata": {},
   "source": [
    "# **III) EXPLORATORY DATA ANALYSIS AFTER CLEANING DATA**"
   ]
  },
  {
   "attachments": {},
   "cell_type": "markdown",
   "metadata": {},
   "source": [
    "## 1) Basic info"
   ]
  },
  {
   "cell_type": "code",
   "execution_count": null,
   "metadata": {},
   "outputs": [],
   "source": [
    "rain_df.shape"
   ]
  },
  {
   "cell_type": "code",
   "execution_count": null,
   "metadata": {},
   "outputs": [],
   "source": [
    "rain_df.head()"
   ]
  },
  {
   "cell_type": "code",
   "execution_count": null,
   "metadata": {},
   "outputs": [],
   "source": [
    "col_names = rain_df.columns\n",
    "\n",
    "col_names"
   ]
  },
  {
   "cell_type": "code",
   "execution_count": null,
   "metadata": {},
   "outputs": [],
   "source": [
    "rain_df.info()"
   ]
  },
  {
   "cell_type": "code",
   "execution_count": null,
   "metadata": {},
   "outputs": [],
   "source": [
    "rain_df.describe()"
   ]
  },
  {
   "attachments": {},
   "cell_type": "markdown",
   "metadata": {},
   "source": [
    "*Univariate Variable Exploration*\n",
    "* Explore target variable \"RainTomorrow\". "
   ]
  },
  {
   "attachments": {},
   "cell_type": "markdown",
   "metadata": {},
   "source": [
    " ##### Check for missing values"
   ]
  },
  {
   "cell_type": "code",
   "execution_count": null,
   "metadata": {},
   "outputs": [],
   "source": [
    "rain_df['RainTomorrow'].isnull().sum()"
   ]
  },
  {
   "attachments": {},
   "cell_type": "markdown",
   "metadata": {},
   "source": [
    "We can see that there are no missing values in the RainTomorrow target variable."
   ]
  },
  {
   "attachments": {},
   "cell_type": "markdown",
   "metadata": {},
   "source": [
    "##### View number of unique values"
   ]
  },
  {
   "cell_type": "code",
   "execution_count": null,
   "metadata": {},
   "outputs": [],
   "source": [
    "rain_df['RainTomorrow'].nunique()"
   ]
  },
  {
   "attachments": {},
   "cell_type": "markdown",
   "metadata": {},
   "source": [
    "We can see that the number of unique values in RainTomorrow variable is 2."
   ]
  },
  {
   "attachments": {},
   "cell_type": "markdown",
   "metadata": {},
   "source": [
    "##### View the unique values"
   ]
  },
  {
   "cell_type": "code",
   "execution_count": null,
   "metadata": {},
   "outputs": [],
   "source": [
    "rain_df['RainTomorrow'].unique() \n",
    "# 0: No , 1: Yes"
   ]
  },
  {
   "attachments": {},
   "cell_type": "markdown",
   "metadata": {},
   "source": [
    "The two unique values are No and Yes."
   ]
  },
  {
   "attachments": {},
   "cell_type": "markdown",
   "metadata": {},
   "source": [
    "##### View the frequency distribution of values¶"
   ]
  },
  {
   "cell_type": "code",
   "execution_count": null,
   "metadata": {},
   "outputs": [],
   "source": [
    "rain_df['RainTomorrow'].value_counts()"
   ]
  },
  {
   "attachments": {},
   "cell_type": "markdown",
   "metadata": {},
   "source": [
    "##### View percentage of frequency distribution of values"
   ]
  },
  {
   "cell_type": "code",
   "execution_count": null,
   "metadata": {},
   "outputs": [],
   "source": [
    "rain_df['RainTomorrow'].value_counts()/len(rain_df)"
   ]
  },
  {
   "attachments": {},
   "cell_type": "markdown",
   "metadata": {},
   "source": [
    "We can see that out of the total number of RainTomorrow values, No appears 78.53% times and Yes appears 21.46% times."
   ]
  },
  {
   "attachments": {},
   "cell_type": "markdown",
   "metadata": {},
   "source": [
    "##### Visualize frequency distribution of RainTomorrow variable"
   ]
  },
  {
   "cell_type": "code",
   "execution_count": null,
   "metadata": {},
   "outputs": [],
   "source": [
    "\n",
    "#Visualizes the count of the target variable \"RainTomorrow\" using a seaborn countplot with a color palette of \"Set1\".\n",
    "\n",
    "f, ax = plt.subplots(figsize=(6, 8))\n",
    "ax = sns.countplot(x=\"RainTomorrow\", data=rain_df, palette=\"Set1\")\n",
    "plt.show()"
   ]
  },
  {
   "attachments": {},
   "cell_type": "markdown",
   "metadata": {},
   "source": [
    "Interpretation\n",
    "The above univariate plot confirms our findings that -\n",
    "\n",
    "* The No variable have 110316 entries, and\n",
    "\n",
    "* The Yes variable have 31877 entries."
   ]
  },
  {
   "attachments": {},
   "cell_type": "markdown",
   "metadata": {},
   "source": [
    "We can plot the bars horizontally as follows :"
   ]
  },
  {
   "cell_type": "code",
   "execution_count": null,
   "metadata": {},
   "outputs": [],
   "source": [
    "\n",
    "#The code creates a count plot to show the distribution of the target variable RainTomorrow using the seaborn library.\n",
    "# The palette argument sets the color palette for the plot.\n",
    "\n",
    "f, ax = plt.subplots(figsize=(8, 4))\n",
    "ax = sns.countplot(y=\"RainTomorrow\", data=rain_df, palette=\"Set1\")\n",
    "plt.show()"
   ]
  },
  {
   "attachments": {},
   "cell_type": "markdown",
   "metadata": {},
   "source": [
    "**Findings of Univariate Analysis**\n",
    "\n",
    "* The number of unique values in RainTomorrow variable is 2.\n",
    "\n",
    "* The two unique values are No and Yes.\n",
    "\n",
    "* Out of the total number of RainTomorrow values, No appears 77.58% times and Yes appears 22.42% times.\n",
    "\n",
    "* The univariate plot confirms our findings that –\n",
    "\n",
    "  * The No variable have 110316 entries, and\n",
    "\n",
    "  * The Yes variable have 31877 entries."
   ]
  },
  {
   "attachments": {},
   "cell_type": "markdown",
   "metadata": {},
   "source": [
    "*Explore Location variable*"
   ]
  },
  {
   "cell_type": "code",
   "execution_count": null,
   "metadata": {},
   "outputs": [],
   "source": [
    "# print number of labels in Location variable\n",
    "\n",
    "print('Location contains', len(rain_df.Location.unique()), 'labels')"
   ]
  },
  {
   "attachments": {},
   "cell_type": "markdown",
   "metadata": {},
   "source": [
    "As can be seen, there are 49 labels according to each city in Australia that has been encoded into number. "
   ]
  },
  {
   "cell_type": "code",
   "execution_count": null,
   "metadata": {},
   "outputs": [],
   "source": [
    "# check labels in location variable\n",
    "rain_df.Location.unique()"
   ]
  },
  {
   "cell_type": "code",
   "execution_count": null,
   "metadata": {},
   "outputs": [],
   "source": [
    "# check frequency distribution of values in Location variable\n",
    "rain_df.Location.value_counts()"
   ]
  },
  {
   "attachments": {},
   "cell_type": "markdown",
   "metadata": {},
   "source": [
    "*Explore WindGustDir variable*"
   ]
  },
  {
   "cell_type": "code",
   "execution_count": null,
   "metadata": {},
   "outputs": [],
   "source": [
    "# print number of labels in WindGustDir variable\n",
    "\n",
    "print('WindGustDir contains', len(rain_df['WindGustDir'].unique()), 'labels')"
   ]
  },
  {
   "cell_type": "code",
   "execution_count": null,
   "metadata": {},
   "outputs": [],
   "source": [
    "# check labels in WindGustDir variable\n",
    "\n",
    "rain_df['WindGustDir'].unique()"
   ]
  },
  {
   "attachments": {},
   "cell_type": "markdown",
   "metadata": {},
   "source": [
    "As can be seen, there are 16 different values for this variable"
   ]
  },
  {
   "cell_type": "code",
   "execution_count": null,
   "metadata": {},
   "outputs": [],
   "source": [
    "# check frequency distribution of values in WindGustDir variable\n",
    "\n",
    "rain_df.WindGustDir.value_counts()"
   ]
  },
  {
   "attachments": {},
   "cell_type": "markdown",
   "metadata": {},
   "source": [
    "*Explore WindDir9am variable*"
   ]
  },
  {
   "cell_type": "code",
   "execution_count": null,
   "metadata": {},
   "outputs": [],
   "source": [
    "# print number of labels in WindDir9am variable\n",
    "\n",
    "print('WindDir9am contains', len(rain_df['WindDir9am'].unique()), 'labels')"
   ]
  },
  {
   "cell_type": "code",
   "execution_count": null,
   "metadata": {},
   "outputs": [],
   "source": [
    "# check labels in WindDir9am variable\n",
    "\n",
    "rain_df['WindDir9am'].unique()"
   ]
  },
  {
   "cell_type": "code",
   "execution_count": null,
   "metadata": {},
   "outputs": [],
   "source": [
    "# check frequency distribution of values in WindDir9am variable\n",
    "\n",
    "rain_df['WindDir9am'].value_counts()"
   ]
  },
  {
   "attachments": {},
   "cell_type": "markdown",
   "metadata": {},
   "source": [
    "*Explore WindDir3pm variable*"
   ]
  },
  {
   "cell_type": "code",
   "execution_count": null,
   "metadata": {},
   "outputs": [],
   "source": [
    "# print number of labels in WindDir3pm variable\n",
    "\n",
    "print('WindDir3pm contains', len(rain_df['WindDir3pm'].unique()), 'labels')"
   ]
  },
  {
   "cell_type": "code",
   "execution_count": null,
   "metadata": {},
   "outputs": [],
   "source": [
    "# check labels in WindDir3pm variable\n",
    "\n",
    "rain_df['WindDir3pm'].unique()"
   ]
  },
  {
   "cell_type": "code",
   "execution_count": null,
   "metadata": {},
   "outputs": [],
   "source": [
    "# check frequency distribution of values in WindDir3pm variable\n",
    "\n",
    "rain_df['WindDir3pm'].value_counts()"
   ]
  },
  {
   "attachments": {},
   "cell_type": "markdown",
   "metadata": {},
   "source": [
    "*Explore RainToday variable*"
   ]
  },
  {
   "cell_type": "code",
   "execution_count": null,
   "metadata": {},
   "outputs": [],
   "source": [
    "# print number of labels in RainToday variable\n",
    "\n",
    "print('RainToday contains', len(rain_df['RainToday'].unique()), 'labels')"
   ]
  },
  {
   "cell_type": "code",
   "execution_count": null,
   "metadata": {},
   "outputs": [],
   "source": [
    "# check labels in WindGustDir variable\n",
    "\n",
    "rain_df['RainToday'].unique()"
   ]
  },
  {
   "cell_type": "code",
   "execution_count": null,
   "metadata": {},
   "outputs": [],
   "source": [
    "# check frequency distribution of values in WindGustDir variable\n",
    "\n",
    "rain_df.RainToday.value_counts()"
   ]
  },
  {
   "attachments": {},
   "cell_type": "markdown",
   "metadata": {},
   "source": [
    "correlation = rain_df.corr()"
   ]
  },
  {
   "attachments": {},
   "cell_type": "markdown",
   "metadata": {},
   "source": [
    "##### Heat map"
   ]
  },
  {
   "cell_type": "code",
   "execution_count": null,
   "metadata": {},
   "outputs": [],
   "source": [
    "correlation = rain_df.corr()"
   ]
  },
  {
   "cell_type": "code",
   "execution_count": null,
   "metadata": {},
   "outputs": [],
   "source": [
    "plt.figure(figsize=(16,12))\n",
    "plt.title('Correlation Heatmap of Rain in Australia Dataset')\n",
    "ax = sns.heatmap(correlation, square=True, annot=True, fmt='.2f', linecolor='white')\n",
    "ax.set_xticklabels(ax.get_xticklabels(), rotation=90)\n",
    "ax.set_yticklabels(ax.get_yticklabels(), rotation=30)           \n",
    "plt.show()"
   ]
  },
  {
   "attachments": {},
   "cell_type": "markdown",
   "metadata": {},
   "source": [
    "##### From the above correlation heat map, we can conclude that :-\n",
    "\n",
    "* MinTemp and MaxTemp variables are highly positively correlated (correlation coefficient = 0.69).\n",
    "\n",
    "* MinTemp and Temp3pm variables are also highly positively correlated (correlation coefficient = 0.66).\n",
    "\n",
    "* MinTemp and Temp9am variables are strongly positively correlated (correlation coefficient = 0.89).\n",
    "\n",
    "* MaxTemp and Temp9am variables are strongly positively correlated (correlation coefficient = 0.86).\n",
    "\n",
    "* MaxTemp and Temp3pm variables are also strongly positively correlated (correlation coefficient = 0.97).\n",
    "\n",
    "* WindGustSpeed and WindSpeed3pm variables are highly positively correlated (correlation coefficient = 0.62).\n"
   ]
  },
  {
   "cell_type": "code",
   "execution_count": null,
   "metadata": {},
   "outputs": [],
   "source": [
    "num_var = ['MinTemp', 'MaxTemp', 'Temp9am', 'Temp3pm', 'WindGustSpeed', 'WindSpeed3pm', 'Pressure9am', 'Pressure3pm']"
   ]
  },
  {
   "cell_type": "code",
   "execution_count": null,
   "metadata": {},
   "outputs": [],
   "source": [
    "sns.pairplot(rain_df[num_var], kind='scatter', diag_kind='hist', palette='Rainbow')\n",
    "plt.show()"
   ]
  },
  {
   "attachments": {},
   "cell_type": "markdown",
   "metadata": {},
   "source": [
    "I have defined a variable num_var which consists of MinTemp, MaxTemp, Temp9am, Temp3pm, WindGustSpeed, WindSpeed3pm, Pressure9am and Pressure3pm variables.\n",
    "\n",
    "The above pair plot shows relationship between these variables"
   ]
  },
  {
   "cell_type": "code",
   "execution_count": null,
   "metadata": {},
   "outputs": [],
   "source": []
  },
  {
   "cell_type": "markdown",
   "metadata": {},
   "source": [
    "As we can see now all the attributes (except the target column) are successfully standardized (ranging from -1 to 1)"
   ]
  },
  {
   "cell_type": "markdown",
   "metadata": {},
   "source": [
    "# III) TESTING MULTIPLE MODELS"
   ]
  },
  {
   "attachments": {},
   "cell_type": "markdown",
   "metadata": {},
   "source": [
    "- Splitting data into training and testing sets is crucial for evaluating machine learning model performance. The training set is used to train the model while the testing set is used to evaluate the model's performance on new data. This helps avoid overfitting, where the model performs well on training data but poorly on new data. \n",
    "\n",
    "- Normalization scales features to a similar range, ensuring no feature dominates others and improving machine learning algorithm performance. \n",
    "\n",
    "- fit_transform() calculates the mean and standard deviation of training data, scales it, and applies the same scaling to the test data.\n"
   ]
  },
  {
   "cell_type": "code",
   "execution_count": null,
   "metadata": {},
   "outputs": [],
   "source": [
    "#This code selects a subset of columns from the rain_df dataframe and assign them to features. \n",
    "#The target variable is assigned to target. Then, the data is split into training and testing sets using the train_test_split \n",
    "#function from sklearn.model_selection. Finally, the features are normalized using StandardScaler from sklearn.preprocessing.\n",
    "\n",
    "features = rain_df[['Location', 'MinTemp', 'MaxTemp', 'Rainfall', 'Evaporation', 'Sunshine', 'WindGustDir', \n",
    "                       'WindGustSpeed', 'WindDir9am', 'WindDir3pm', 'WindSpeed9am', 'WindSpeed3pm', 'Humidity9am', \n",
    "                       'Humidity3pm', 'Pressure9am', 'Pressure3pm', 'Cloud9am', 'Cloud3pm', 'Temp9am', 'Temp3pm', \n",
    "                       'RainToday']]\n",
    "target = rain_df['RainTomorrow']\n",
    "\n",
    "# Split into test and train\n",
    "#test_size : is set to 0.25 to indicate that 25% of the data should be used for testing.\n",
    "#random_state : set to 12345 to ensure that the random splitting of the data is reproducible. \n",
    "from sklearn.model_selection import train_test_split\n",
    "X_train, X_test, y_train, y_test = train_test_split(features, target, test_size=0.25, random_state=12345) \n",
    "\n",
    "\n",
    "#Normalize data using sklearn StandardScaler:Standardize the numerical columns of the rain_df dataframe using StandardScaler() \n",
    "#from scikit-learn, excluding the target column. The standardized numerical data is stored in rain_scaled.\n",
    "\n",
    "from sklearn.preprocessing import StandardScaler\n",
    "\n",
    "# Create an instance of the StandardScaler class\n",
    "scaler = StandardScaler()\n",
    "\n",
    "# Fit the StandardScaler to the training data and transform it\n",
    "X_train = scaler.fit_transform(X_train)\n",
    "\n",
    "# Transform the test data using the StandardScaler that was fit to the training data\n",
    "X_test = scaler.transform(X_test)\n"
   ]
  },
  {
   "attachments": {},
   "cell_type": "markdown",
   "metadata": {},
   "source": [
    "- The ROC curve is used in binary classification to evaluate model performance by plotting true positive rate against false positive rate. It is a visual comparison of different models or threshold values. \n",
    "- The Matplotlib method legend() adds a legend to the plot, displaying labels of plotted lines or markers."
   ]
  },
  {
   "cell_type": "code",
   "execution_count": 86,
   "metadata": {},
   "outputs": [],
   "source": [
    "\n",
    "#This function plots a Receiver Operating Characteristic (ROC) curve given false positive rates and true positive rates.\n",
    "#with the false positive rate on the x-axis and the true positive rate on the y-axis. The function also adds a diagonal line to represent the ROC curve of a random classifier,\n",
    "# and a legend to identify the ROC curve and the random line.\n",
    "\n",
    "def plot_roc_cur(fper, tper):  \n",
    "    # Plot the ROC curve with false positive rate on the x-axis and true positive rate on the y-axis\n",
    "    plt.plot(fper, tper, color='orange', label='ROC')\n",
    "    \n",
    "    # Plot a diagonal line from (0,0) to (1,1) to represent a random classifier\n",
    "    plt.plot([0, 1], [0, 1], color='darkblue', linestyle='--')\n",
    "    \n",
    "    # Label the x and y axes\n",
    "    plt.xlabel('False Positive Rate')\n",
    "    plt.ylabel('True Positive Rate')\n",
    "    \n",
    "    # Set the title of the plot\n",
    "    plt.title('Receiver Operating Characteristic (ROC) Curve')\n",
    "    \n",
    "    # Add a legend to the plot\n",
    "    plt.legend()\n",
    "    \n",
    "    # Show the plot\n",
    "    plt.show()\n"
   ]
  },
  {
   "cell_type": "code",
   "execution_count": 87,
   "metadata": {},
   "outputs": [],
   "source": [
    "\n",
    "\n",
    "#This function runs a given machine learning model on training and testing data, prints evaluation metrics such as accuracy,\n",
    "#ROC area under curve, Cohen's Kappa, and time taken for model training and prediction. It also generates a classification report,\n",
    "#ROC curve plot, and a confusion matrix plot. The function returns the trained model, evaluation metrics, and plots.\n",
    "\n",
    "import time\n",
    "from sklearn.metrics import accuracy_score, roc_auc_score, cohen_kappa_score, plot_confusion_matrix, roc_curve, classification_report\n",
    "\n",
    "def run_model(model, X_train, y_train, X_test, y_test, verbose=True):\n",
    "    # Start timer\n",
    "    t0 = time.time()\n",
    "    \n",
    "    # Fit the model to the training data\n",
    "    if verbose == False:\n",
    "        # If verbose is False, fit the model silently (without verbose output)\n",
    "        model.fit(X_train, y_train, verbose=0)\n",
    "    else:\n",
    "        # Otherwise, fit the model with verbose output\n",
    "        model.fit(X_train, y_train)\n",
    "    \n",
    "    # Predict the labels of the test data\n",
    "    y_pred = model.predict(X_test)\n",
    "    \n",
    "    # Compute evaluation metrics\n",
    "    accuracy = accuracy_score(y_test, y_pred)\n",
    "    roc_auc = roc_auc_score(y_test, y_pred)\n",
    "    coh_kap = cohen_kappa_score(y_test, y_pred)\n",
    "    \n",
    "    # Calculate time taken to fit the model and make predictions\n",
    "    time_taken = time.time() - t0\n",
    "    \n",
    "    # Print evaluation metrics\n",
    "    print(\"Accuracy = {}\".format(accuracy))\n",
    "    print(\"ROC Area under Curve = {}\".format(roc_auc))\n",
    "    print(\"Cohen's Kappa = {}\".format(coh_kap))\n",
    "    print(\"Time taken = {}\".format(time_taken))\n",
    "    \n",
    "    # Print classification report with detailed metrics\n",
    "    print(classification_report(y_test, y_pred, digits=5))\n",
    "    \n",
    "    # Compute ROC curve metrics\n",
    "    probs = model.predict_proba(X_test)\n",
    "    probs = probs[:, 1]\n",
    "    fper, tper, thresholds = roc_curve(y_test, probs)\n",
    "    \n",
    "    # Plot ROC curve\n",
    "    plot_roc_cur(fper, tper)\n",
    "    \n",
    "    # Plot confusion matrix\n",
    "    plot_confusion_matrix(model, X_test, y_test, cmap=plt.cm.Blues, normalize='all')\n",
    "    \n",
    "    # Return the trained model and evaluation metrics\n",
    "    return model, accuracy, roc_auc, coh_kap, time_taken\n",
    "\n"
   ]
  },
  {
   "attachments": {},
   "cell_type": "markdown",
   "metadata": {},
   "source": [
    "### 1) LOGISTIC REGRESSION"
   ]
  },
  {
   "cell_type": "markdown",
   "metadata": {},
   "source": [
    "In this case, we want to split the it into to train and test set with ratio 0.75 : 0.25, respectively"
   ]
  },
  {
   "cell_type": "code",
   "execution_count": 88,
   "metadata": {
    "scrolled": true
   },
   "outputs": [
    {
     "name": "stdout",
     "output_type": "stream",
     "text": [
      "Accuracy = 0.8448438088069251\n",
      "ROC Area under Curve = 0.7073383921184122\n",
      "Cohen's Kappa = 0.47361548220060434\n",
      "Time taken = 0.8740131855010986\n",
      "              precision    recall  f1-score   support\n",
      "\n",
      "         0.0    0.86704   0.94791   0.90567     25054\n",
      "         1.0    0.70955   0.46676   0.56310      6830\n",
      "\n",
      "    accuracy                        0.84484     31884\n",
      "   macro avg    0.78829   0.70734   0.73439     31884\n",
      "weighted avg    0.83330   0.84484   0.83229     31884\n",
      "\n"
     ]
    },
    {
     "data": {
      "image/png": "[encoded data removed]",
      "text/plain": [
       "<Figure size 432x288 with 1 Axes>"
      ]
     },
     "metadata": {
      "needs_background": "light"
     },
     "output_type": "display_data"
    },
    {
     "name": "stderr",
     "output_type": "stream",
     "text": [
      "C:\\Users\\Thai\\anaconda3\\lib\\site-packages\\sklearn\\utils\\deprecation.py:87: FutureWarning: Function plot_confusion_matrix is deprecated; Function `plot_confusion_matrix` is deprecated in 1.0 and will be removed in 1.2. Use one of the class methods: ConfusionMatrixDisplay.from_predictions or ConfusionMatrixDisplay.from_estimator.\n",
      "  warnings.warn(msg, category=FutureWarning)\n"
     ]
    },
    {
     "data": {
      "image/png": "[encoded data removed]",
      "text/plain": [
       "<Figure size 432x288 with 2 Axes>"
      ]
     },
     "metadata": {
      "needs_background": "light"
     },
     "output_type": "display_data"
    }
   ],
   "source": [
    "\n",
    "#The code runs a logistic regression model with specified parameters, prints evaluation metrics and plots ROC curve and confusion matrix.\n",
    "\n",
    "# Import the LogisticRegression class from the sklearn.linear_model module\n",
    "from sklearn.linear_model import LogisticRegression\n",
    "\n",
    "# Define a dictionary of hyperparameters to be used by the model\n",
    "params_lr = {'penalty': 'l1', 'solver':'liblinear'}\n",
    "\n",
    "# Create a new LogisticRegression model object with the specified hyperparameters\n",
    "model_lr = LogisticRegression(**params_lr)\n",
    "\n",
    "# Call the run_model function with the new model object and training and testing data,\n",
    "# and store the resulting values for model performance metrics\n",
    "model_lr, accuracy_lr, roc_auc_lr, coh_kap_lr, tt_lr = run_model(model_lr, X_train, y_train, X_test, y_test)\n"
   ]
  },
  {
   "attachments": {},
   "cell_type": "markdown",
   "metadata": {},
   "source": [
    "### 2) Decision tree"
   ]
  },
  {
   "cell_type": "code",
   "execution_count": 89,
   "metadata": {},
   "outputs": [
    {
     "name": "stdout",
     "output_type": "stream",
     "text": [
      "Accuracy = 0.8110337473340861\n",
      "ROC Area under Curve = 0.682150642460017\n",
      "Cohen's Kappa = 0.39357951553259674\n",
      "Time taken = 0.21200251579284668\n",
      "              precision    recall  f1-score   support\n",
      "\n",
      "         0.0    0.85970   0.90764   0.88302     25054\n",
      "         1.0    0.57408   0.45666   0.50868      6830\n",
      "\n",
      "    accuracy                        0.81103     31884\n",
      "   macro avg    0.71689   0.68215   0.69585     31884\n",
      "weighted avg    0.79852   0.81103   0.80283     31884\n",
      "\n"
     ]
    },
    {
     "data": {
      "image/png": "[encoded data removed]",
      "text/plain": [
       "<Figure size 432x288 with 1 Axes>"
      ]
     },
     "metadata": {
      "needs_background": "light"
     },
     "output_type": "display_data"
    },
    {
     "name": "stderr",
     "output_type": "stream",
     "text": [
      "C:\\Users\\Thai\\anaconda3\\lib\\site-packages\\sklearn\\utils\\deprecation.py:87: FutureWarning: Function plot_confusion_matrix is deprecated; Function `plot_confusion_matrix` is deprecated in 1.0 and will be removed in 1.2. Use one of the class methods: ConfusionMatrixDisplay.from_predictions or ConfusionMatrixDisplay.from_estimator.\n",
      "  warnings.warn(msg, category=FutureWarning)\n"
     ]
    },
    {
     "data": {
      "image/png": "[encoded data removed]",
      "text/plain": [
       "<Figure size 432x288 with 2 Axes>"
      ]
     },
     "metadata": {
      "needs_background": "light"
     },
     "output_type": "display_data"
    }
   ],
   "source": [
    "#This code trains and evaluates a decision tree classifier with specified hyperparameters using the run_model function.\n",
    "#The resulting model's performance metrics are stored in accuracy_dt, roc_auc_dt, coh_kap_dt, and tt_dt.\n",
    "#from sklearn.tree import DecisionTreeClassifier\n",
    "\n",
    "from sklearn.tree import DecisionTreeClassifier\n",
    "\n",
    "params_dt = {'max_depth': 16,\n",
    "             'max_features': \"sqrt\"}\n",
    "\n",
    "model_dt = DecisionTreeClassifier(**params_dt)\n",
    "model_dt, accuracy_dt, roc_auc_dt, coh_kap_dt, tt_dt = run_model(model_dt, X_train, y_train, X_test, y_test)"
   ]
  },
  {
   "attachments": {},
   "cell_type": "markdown",
   "metadata": {},
   "source": [
    "### 3) Gaussian NB"
   ]
  },
  {
   "cell_type": "code",
   "execution_count": 90,
   "metadata": {},
   "outputs": [
    {
     "name": "stdout",
     "output_type": "stream",
     "text": [
      "Accuracy = 0.7998682724877682\n",
      "ROC Area under Curve = 0.7345789843571853\n",
      "Cohen's Kappa = 0.4410899958825909\n",
      "Time taken = 0.06599807739257812\n",
      "              precision    recall  f1-score   support\n",
      "\n",
      "         0.0    0.89132   0.84881   0.86954     25054\n",
      "         1.0    0.52798   0.62035   0.57045      6830\n",
      "\n",
      "    accuracy                        0.79987     31884\n",
      "   macro avg    0.70965   0.73458   0.72000     31884\n",
      "weighted avg    0.81349   0.79987   0.80547     31884\n",
      "\n"
     ]
    },
    {
     "data": {
      "image/png": "[encoded data removed]",
      "text/plain": [
       "<Figure size 432x288 with 1 Axes>"
      ]
     },
     "metadata": {
      "needs_background": "light"
     },
     "output_type": "display_data"
    },
    {
     "name": "stderr",
     "output_type": "stream",
     "text": [
      "C:\\Users\\Thai\\anaconda3\\lib\\site-packages\\sklearn\\utils\\deprecation.py:87: FutureWarning: Function plot_confusion_matrix is deprecated; Function `plot_confusion_matrix` is deprecated in 1.0 and will be removed in 1.2. Use one of the class methods: ConfusionMatrixDisplay.from_predictions or ConfusionMatrixDisplay.from_estimator.\n",
      "  warnings.warn(msg, category=FutureWarning)\n"
     ]
    },
    {
     "data": {
      "image/png": "[encoded data removed]",
      "text/plain": [
       "<Figure size 432x288 with 2 Axes>"
      ]
     },
     "metadata": {
      "needs_background": "light"
     },
     "output_type": "display_data"
    }
   ],
   "source": [
    "\n",
    "#This code fits a Gaussian Naive Bayes model on the training data and evaluates its performance on the test data using various \n",
    "#metrics including accuracy, ROC AUC, Cohen's Kappa, and classification report. Finally, it plots the ROC curve and confusion matrix.\n",
    "\n",
    "from sklearn.naive_bayes import GaussianNB\n",
    "\n",
    "params_gnb = {}\n",
    "\n",
    "model_gnb = GaussianNB(**params_gnb)\n",
    "model_gnb, accuracy_gnb, roc_auc_gnb, coh_kap_gnb, tt_gnb = run_model(model_gnb, X_train, y_train, X_test, y_test)"
   ]
  },
  {
   "attachments": {},
   "cell_type": "markdown",
   "metadata": {},
   "source": [
    "### 4) Random Forest"
   ]
  },
  {
   "cell_type": "code",
   "execution_count": 91,
   "metadata": {},
   "outputs": [
    {
     "name": "stdout",
     "output_type": "stream",
     "text": [
      "Accuracy = 0.8530924601681094\n",
      "ROC Area under Curve = 0.7118948108688455\n",
      "Cohen's Kappa = 0.4926831386666065\n",
      "Time taken = 12.264798641204834\n",
      "              precision    recall  f1-score   support\n",
      "\n",
      "         0.0    0.86796   0.95893   0.91118     25054\n",
      "         1.0    0.75523   0.46486   0.57549      6830\n",
      "\n",
      "    accuracy                        0.85309     31884\n",
      "   macro avg    0.81159   0.71189   0.74334     31884\n",
      "weighted avg    0.84381   0.85309   0.83927     31884\n",
      "\n"
     ]
    },
    {
     "data": {
      "image/png": "[encoded data removed]",
      "text/plain": [
       "<Figure size 432x288 with 1 Axes>"
      ]
     },
     "metadata": {
      "needs_background": "light"
     },
     "output_type": "display_data"
    },
    {
     "name": "stderr",
     "output_type": "stream",
     "text": [
      "C:\\Users\\Thai\\anaconda3\\lib\\site-packages\\sklearn\\utils\\deprecation.py:87: FutureWarning: Function plot_confusion_matrix is deprecated; Function `plot_confusion_matrix` is deprecated in 1.0 and will be removed in 1.2. Use one of the class methods: ConfusionMatrixDisplay.from_predictions or ConfusionMatrixDisplay.from_estimator.\n",
      "  warnings.warn(msg, category=FutureWarning)\n"
     ]
    },
    {
     "data": {
      "image/png": "[encoded data removed]",
      "text/plain": [
       "<Figure size 432x288 with 2 Axes>"
      ]
     },
     "metadata": {
      "needs_background": "light"
     },
     "output_type": "display_data"
    }
   ],
   "source": [
    "\n",
    "#This code uses the random forest classifier from scikit-learn library with some specific parameters to fit the model on \n",
    "#the training data and evaluate its performance on the test data. The model's accuracy, ROC AUC, Cohen's Kappa score, time taken\n",
    "#for training and testing, and the classification report are printed to the console. Finally, the ROC curve and the confusion matrix \n",
    "#are plotted.\n",
    "\n",
    "from sklearn.ensemble import RandomForestClassifier\n",
    "\n",
    "params_rf = {'max_depth': 16,\n",
    "             'min_samples_leaf': 1,\n",
    "             'min_samples_split': 2,\n",
    "             'n_estimators': 100,\n",
    "             'random_state': 12345}\n",
    "\n",
    "model_rf = RandomForestClassifier(**params_rf)\n",
    "model_rf, accuracy_rf, roc_auc_rf, coh_kap_rf, tt_rf = run_model(model_rf, X_train, y_train, X_test, y_test)"
   ]
  },
  {
   "attachments": {},
   "cell_type": "markdown",
   "metadata": {},
   "source": [
    "### 5) KNeighborsClassifier"
   ]
  },
  {
   "cell_type": "code",
   "execution_count": 92,
   "metadata": {
    "scrolled": false
   },
   "outputs": [
    {
     "name": "stdout",
     "output_type": "stream",
     "text": [
      "Accuracy = 0.8345251536820976\n",
      "ROC Area under Curve = 0.6981100968321311\n",
      "Cohen's Kappa = 0.44631958965582974\n",
      "Time taken = 38.88991570472717\n",
      "              precision    recall  f1-score   support\n",
      "\n",
      "         0.0    0.86407   0.93678   0.89896     25054\n",
      "         1.0    0.66455   0.45944   0.54328      6830\n",
      "\n",
      "    accuracy                        0.83453     31884\n",
      "   macro avg    0.76431   0.69811   0.72112     31884\n",
      "weighted avg    0.82133   0.83453   0.82277     31884\n",
      "\n"
     ]
    },
    {
     "data": {
      "image/png": "[encoded data removed]",
      "text/plain": [
       "<Figure size 432x288 with 1 Axes>"
      ]
     },
     "metadata": {
      "needs_background": "light"
     },
     "output_type": "display_data"
    },
    {
     "name": "stderr",
     "output_type": "stream",
     "text": [
      "C:\\Users\\Thai\\anaconda3\\lib\\site-packages\\sklearn\\utils\\deprecation.py:87: FutureWarning: Function plot_confusion_matrix is deprecated; Function `plot_confusion_matrix` is deprecated in 1.0 and will be removed in 1.2. Use one of the class methods: ConfusionMatrixDisplay.from_predictions or ConfusionMatrixDisplay.from_estimator.\n",
      "  warnings.warn(msg, category=FutureWarning)\n"
     ]
    },
    {
     "data": {
      "image/png": "[encoded data removed]",
      "text/plain": [
       "<Figure size 432x288 with 2 Axes>"
      ]
     },
     "metadata": {
      "needs_background": "light"
     },
     "output_type": "display_data"
    }
   ],
   "source": [
    "#This code uses the random forest classifier from scikit-learn library with some specific parameters to fit the model on the training data\n",
    "#and evaluate its performance on the test data. The model's accuracy, ROC AUC, Cohen's Kappa score, time taken for training and testing, \n",
    "#and the classification report are printed to the console. Finally, the ROC curve and the confusion matrix are plotted.\n",
    "\n",
    "from sklearn.neighbors import KNeighborsClassifier\n",
    "\n",
    "params_knn = {'n_neighbors': 5, \n",
    "              'weights': 'uniform'}\n",
    "\n",
    "model_knn = KNeighborsClassifier(**params_knn)\n",
    "model_knn, accuracy_knn, roc_auc_knn, coh_kap_knn, tt_knn = run_model(model_knn, X_train, y_train, X_test, y_test)\n"
   ]
  },
  {
   "attachments": {},
   "cell_type": "markdown",
   "metadata": {},
   "source": [
    "### 6) Linear Discriminant Analysis"
   ]
  },
  {
   "cell_type": "code",
   "execution_count": 93,
   "metadata": {
    "scrolled": false
   },
   "outputs": [
    {
     "name": "stdout",
     "output_type": "stream",
     "text": [
      "Accuracy = 0.8441851712457659\n",
      "ROC Area under Curve = 0.7128299973083031\n",
      "Cohen's Kappa = 0.4790795466184269\n",
      "Time taken = 0.23399949073791504\n",
      "              precision    recall  f1-score   support\n",
      "\n",
      "         0.0    0.86994   0.94264   0.90483     25054\n",
      "         1.0    0.69658   0.48302   0.57047      6830\n",
      "\n",
      "    accuracy                        0.84419     31884\n",
      "   macro avg    0.78326   0.71283   0.73765     31884\n",
      "weighted avg    0.83280   0.84419   0.83321     31884\n",
      "\n"
     ]
    },
    {
     "data": {
      "image/png": "[encoded data removed]",
      "text/plain": [
       "<Figure size 432x288 with 1 Axes>"
      ]
     },
     "metadata": {
      "needs_background": "light"
     },
     "output_type": "display_data"
    },
    {
     "name": "stderr",
     "output_type": "stream",
     "text": [
      "C:\\Users\\Thai\\anaconda3\\lib\\site-packages\\sklearn\\utils\\deprecation.py:87: FutureWarning: Function plot_confusion_matrix is deprecated; Function `plot_confusion_matrix` is deprecated in 1.0 and will be removed in 1.2. Use one of the class methods: ConfusionMatrixDisplay.from_predictions or ConfusionMatrixDisplay.from_estimator.\n",
      "  warnings.warn(msg, category=FutureWarning)\n"
     ]
    },
    {
     "data": {
      "image/png": "[encoded data removed]",
      "text/plain": [
       "<Figure size 432x288 with 2 Axes>"
      ]
     },
     "metadata": {
      "needs_background": "light"
     },
     "output_type": "display_data"
    }
   ],
   "source": [
    "\n",
    "#This code uses Linear Discriminant Analysis to build a model, and then evaluates its performance using \n",
    "#accuracy, ROC AUC, Cohen's Kappa, time taken, and a classification report.\n",
    "\n",
    "from sklearn.discriminant_analysis import LinearDiscriminantAnalysis\n",
    "\n",
    "params_lda = {}\n",
    "\n",
    "model_lda = LinearDiscriminantAnalysis(**params_lda)\n",
    "model_lda, accuracy_lda, roc_auc_lda, coh_kap_lda, tt_lda = run_model(model_lda, X_train, y_train, X_test, y_test)"
   ]
  },
  {
   "cell_type": "code",
   "execution_count": 97,
   "metadata": {},
   "outputs": [
    {
     "data": {
      "image/png": "[encoded data removed]",
      "text/plain": [
       "<Figure size 864x720 with 2 Axes>"
      ]
     },
     "metadata": {
      "needs_background": "light"
     },
     "output_type": "display_data"
    }
   ],
   "source": [
    "\n",
    "#This code compares the performance of six different machine learning models by computing their accuracy, ROC AUC, and Cohen's Kappa scores \n",
    "#on a test set. It then creates a bar chart of the time taken to fit each model and a line chart of their accuracy scores. The six models used \n",
    "#are Logistic Regression, Decision Tree, GaussianNB, Random Forest, K-Nearest Neighbors, and Linear Discriminant Analysis.\n",
    "\n",
    "accuracy_scores = [accuracy_lr, accuracy_dt, accuracy_gnb, accuracy_rf, accuracy_knn, accuracy_lda]\n",
    "roc_auc_scores = [roc_auc_lr, roc_auc_dt, roc_auc_gnb, roc_auc_rf, roc_auc_knn, roc_auc_lda]\n",
    "coh_kap_scores = [coh_kap_lr, coh_kap_dt, coh_kap_gnb, coh_kap_rf, coh_kap_knn, coh_kap_lda]\n",
    "tt = [tt_lr, tt_dt, tt_gnb, tt_rf, tt_knn, tt_lda,]\n",
    "\n",
    "model_data = {'Model': ['Logistic Regression','Decision Tree','GaussianNB','Random Forest','KNeighborsClassifier','LinearDiscriminantAnalysis'],\n",
    "              'Accuracy': accuracy_scores,\n",
    "              'ROC_AUC': roc_auc_scores,\n",
    "              'Cohen_Kappa': coh_kap_scores,\n",
    "              'Time taken': tt}\n",
    "data = pd.DataFrame(model_data)\n",
    "\n",
    "fig, ax1 = plt.subplots(figsize=(12,10))\n",
    "ax1.set_title('Model Comparison: Accuracy and Time taken for execution', fontsize=13)\n",
    "color = 'tab:green'\n",
    "ax1.set_xlabel('Model', fontsize=13)\n",
    "ax1.set_ylabel('Time taken', fontsize=13, color=color)\n",
    "ax2 = sns.barplot(x='Model', y='Time taken', data = data, palette='summer')\n",
    "ax1.tick_params(axis='y')\n",
    "ax2 = ax1.twinx()\n",
    "color = 'tab:red'\n",
    "ax2.set_ylabel('Accuracy', fontsize=13, color=color)\n",
    "ax2 = sns.lineplot(x='Model', y='Accuracy', data = data, sort=False, color=color)\n",
    "ax2.tick_params(axis='y', color=color)"
   ]
  },
  {
   "cell_type": "code",
   "execution_count": 98,
   "metadata": {
    "scrolled": true
   },
   "outputs": [
    {
     "data": {
      "image/png": "[encoded data removed]",
      "text/plain": [
       "<Figure size 864x720 with 2 Axes>"
      ]
     },
     "metadata": {
      "needs_background": "light"
     },
     "output_type": "display_data"
    }
   ],
   "source": [
    "\n",
    "#The code creates two plots: one comparing accuracy and time taken for execution of different models, \n",
    "#and the other comparing area under ROC and Cohen's kappa for the same models. The plots show the performance of the different models on \n",
    "#the dataset.\n",
    "\n",
    "fig, ax3 = plt.subplots(figsize=(12,10))\n",
    "ax3.set_title('Model Comparison: Area under ROC and Cohens Kappa', fontsize=13)\n",
    "color = 'tab:blue'\n",
    "ax3.set_xlabel('Model', fontsize=13)\n",
    "ax3.set_ylabel('ROC_AUC', fontsize=13, color=color)\n",
    "ax4 = sns.barplot(x='Model', y='ROC_AUC', data = data, palette='winter')\n",
    "ax3.tick_params(axis='y')\n",
    "ax4 = ax3.twinx()\n",
    "color = 'tab:red'\n",
    "ax4.set_ylabel('Cohen_Kappa', fontsize=13, color=color)\n",
    "ax4 = sns.lineplot(x='Model', y='Cohen_Kappa', data = data, sort=False, color=color)\n",
    "ax4.tick_params(axis='y', color=color)\n",
    "plt.show()"
   ]
  },
  {
   "attachments": {},
   "cell_type": "markdown",
   "metadata": {},
   "source": [
    "## IV) BUILDING THE BEST MODEL FOR PREDICTION"
   ]
  },
  {
   "attachments": {},
   "cell_type": "markdown",
   "metadata": {},
   "source": [
    "### 1) Analysis of two models: Logistic Regression and Random Forest"
   ]
  },
  {
   "attachments": {},
   "cell_type": "markdown",
   "metadata": {},
   "source": [
    "The following confusion matrices and classification reports will give us a brief overview of the 2 most effective models \n"
   ]
  },
  {
   "attachments": {},
   "cell_type": "markdown",
   "metadata": {},
   "source": [
    "### CONFUSION MATRIX"
   ]
  },
  {
   "attachments": {},
   "cell_type": "markdown",
   "metadata": {},
   "source": [
    "In this dataset, we concentrate on the number of True Positive and True Nagative as we want correct predictions"
   ]
  },
  {
   "attachments": {},
   "cell_type": "markdown",
   "metadata": {},
   "source": [
    "\n",
    "#This code creates a confusion matrix using seaborn visualization for the Logistic Regression model. \n",
    "#It first fits the model to the training data, then makes predictions on the test data, computes the confusion matrix using the predicted \n",
    "#and true labels, and finally visualizes it using a heatmap. The plot shows the true and predicted labels on the x and y axis, respectively, \n",
    "#and annotates the cells with the count of samples.\n",
    "\n",
    "from sklearn.metrics import confusion_matrix\n",
    "import seaborn as sns\n",
    "#Logistic Regression\n",
    "lr=LogisticRegression()\n",
    "lr.fit(X_train,y_train)\n",
    "predictions1=lr.predict(X_test)\n",
    "cm1=confusion_matrix(y_test,predictions1)\n",
    "fig, ax= plt.subplots(figsize=(6,3))\n",
    "sns.heatmap(cm1, annot=True, ax = ax,linewidths=.5); #annot=True to annotate cells\n",
    "\n",
    "# labels, title and ticks\n",
    "ax.set_xlabel('Predicted labels');ax.set_ylabel('True labels'); \n",
    "ax.set_title('Confusion Matrix'); \n",
    "ax.xaxis.set_ticklabels(['Positive', 'Negative']); ax.yaxis.set_ticklabels(['Negative', 'Positive']);"
   ]
  },
  {
   "cell_type": "code",
   "execution_count": null,
   "metadata": {},
   "outputs": [
    {
     "data": {
      "image/png": "[encoded data removed]",
      "text/plain": [
       "<Figure size 432x216 with 2 Axes>"
      ]
     },
     "metadata": {
      "needs_background": "light"
     },
     "output_type": "display_data"
    }
   ],
   "source": [
    "#It first fits the model to the training data, then makes predictions on the test data, \n",
    "#computes the confusion matrix using the predicted and true labels, and finally visualizes it using a heatmap. \n",
    "#The plot shows the true and predicted labels on the x and y axis, respectively, and annotates the cells with the count of samples.\n",
    "from sklearn.metrics import confusion_matrix\n",
    "import seaborn as sns\n",
    "\n",
    "#Logistic Regression\n",
    "lr=LogisticRegression()\n",
    "\n",
    "#Fits the model\n",
    "lr.fit(X_train,y_train)\n",
    "\n",
    "#Makes predictions\n",
    "predictions1=lr.predict(X_test)\n",
    "\n",
    "#Computes confusion matrix\n",
    "cm1=confusion_matrix(y_test,predictions1)\n",
    "\n",
    "#Visualizes\n",
    "fig, ax= plt.subplots(figsize=(6,3))\n",
    "sns.heatmap(cm1, annot=True, ax = ax,linewidths=.5); #annot=True to annotate cells\n",
    "\n",
    "# labels, title and ticks\n",
    "ax.set_xlabel('Predicted labels');ax.set_ylabel('True labels'); \n",
    "ax.set_title('Confusion Matrix'); \n",
    "ax.xaxis.set_ticklabels(['Positive', 'Negative']); ax.yaxis.set_ticklabels(['Negative', 'Positive']);"
   ]
  },
  {
   "attachments": {},
   "cell_type": "markdown",
   "metadata": {},
   "source": [
    "\n",
    "#Random Forest:This code trains a Random Forest classifier on the training data, makes predictions on the test data, calculates the confusion\n",
    "# matrix, and displays it using a heatmap with annotations. The code is similar to the previous code for logistic regression, but with Random\n",
    "# Forest instead of logistic regression.\n",
    "\n",
    "rf=RandomForestClassifier()\n",
    "rf.fit(X_train,y_train)\n",
    "predictions2=rf.predict(X_test)\n",
    "cm2=confusion_matrix(y_test,predictions2)\n",
    "fig, ax= plt.subplots(figsize=(6,3))\n",
    "sns.heatmap(cm2, annot=True, ax = ax,linewidths=.5); #annot=True to annotate cells\n",
    "\n",
    "# labels, title and ticks\n",
    "ax.set_xlabel('Predicted labels');ax.set_ylabel('True labels'); \n",
    "ax.set_title('Confusion Matrix'); \n",
    "ax.xaxis.set_ticklabels(['Positive', 'Negative']); ax.yaxis.set_ticklabels(['Negative', 'Positive']);"
   ]
  },
  {
   "cell_type": "code",
   "execution_count": 102,
   "metadata": {},
   "outputs": [
    {
     "name": "stdout",
     "output_type": "stream",
     "text": [
      "True Positive: 3222 ; False Positive: 1072 ; True Negative: 23982 ; False Negative 3608\n"
     ]
    }
   ],
   "source": [
    "\n",
    "\n",
    "#The code is generating a confusion matrix and heatmap for the Random Forest model and printing the values of true positive,\n",
    "#false positive, true negative, and false negative. These metrics are useful in evaluating the performance of the model.\n",
    "\n",
    "tn, fp, fn, tp = confusion_matrix(y_test,predictions2).ravel()\n",
    "print('True Positive:', tp,';',\n",
    "      'False Positive:', fp,';',\n",
    "      'True Negative:', tn,';',\n",
    "      'False Negative', fn)"
   ]
  },
  {
   "attachments": {},
   "cell_type": "markdown",
   "metadata": {},
   "source": [
    "\n",
    "\n",
    "### **** CLASSIFICATION REPORT ****\n"
   ]
  },
  {
   "cell_type": "code",
   "execution_count": null,
   "metadata": {},
   "outputs": [
    {
     "data": {
      "image/png": "[encoded data removed]",
      "text/plain": [
       "<Figure size 432x216 with 2 Axes>"
      ]
     },
     "metadata": {
      "needs_background": "light"
     },
     "output_type": "display_data"
    }
   ],
   "source": [
    "#Random Forest\n",
    "rf=RandomForestClassifier()\n",
    "\n",
    "#Fits the model\n",
    "rf.fit(X_train,y_train)\n",
    "\n",
    "#Makes predictions\n",
    "predictions2=rf.predict(X_test)\n",
    "\n",
    "#Computes confusion matrix\n",
    "cm2=confusion_matrix(y_test,predictions2)\n",
    "\n",
    "#Visualizes\n",
    "fig, ax= plt.subplots(figsize=(6,3))\n",
    "sns.heatmap(cm2, annot=True, ax = ax,linewidths=.5); #annot=True to annotate cells\n",
    "\n",
    "# labels, title and ticks\n",
    "ax.set_xlabel('Predicted labels');ax.set_ylabel('True labels'); \n",
    "ax.set_title('Confusion Matrix'); \n",
    "ax.xaxis.set_ticklabels(['Positive', 'Negative']); ax.yaxis.set_ticklabels(['Negative', 'Positive']);"
   ]
  },
  {
   "attachments": {},
   "cell_type": "markdown",
   "metadata": {},
   "source": [
    "The code is generating a confusion matrix and heatmap for the Random Forest model and printing the values of true positive, false positive, true negative, and false negative. These metrics are useful in evaluating the performance of the model."
   ]
  },
  {
   "cell_type": "code",
   "execution_count": 104,
   "metadata": {},
   "outputs": [
    {
     "name": "stdout",
     "output_type": "stream",
     "text": [
      "True Positive: 3222 ; False Positive: 1072 ; True Negative: 23982 ; False Negative 3608\n"
     ]
    }
   ],
   "source": [
    "tn, fp, fn, tp = confusion_matrix(y_test,predictions2).ravel()\n",
    "print('True Positive:', tp,';',\n",
    "      'False Positive:', fp,';',\n",
    "      'True Negative:', tn,';',\n",
    "      'False Negative', fn)"
   ]
  },
  {
   "attachments": {},
   "cell_type": "markdown",
   "metadata": {},
   "source": [
    "### CLASSIFICATION REPORT"
   ]
  },
  {
   "cell_type": "code",
   "execution_count": 106,
   "metadata": {},
   "outputs": [
    {
     "name": "stdout",
     "output_type": "stream",
     "text": [
      "              precision    recall  f1-score   support\n",
      "\n",
      "         0.0       0.87      0.95      0.91     25054\n",
      "         1.0       0.71      0.47      0.56      6830\n",
      "\n",
      "    accuracy                           0.84     31884\n",
      "   macro avg       0.79      0.71      0.73     31884\n",
      "weighted avg       0.83      0.84      0.83     31884\n",
      "\n"
     ]
    }
   ],
   "source": [
    "from sklearn.metrics import confusion_matrix\n",
    "\n",
    "#Logistic Regression\n",
    "print(classification_report(y_test,predictions1))"
   ]
  },
  {
   "cell_type": "code",
   "execution_count": 107,
   "metadata": {},
   "outputs": [
    {
     "name": "stdout",
     "output_type": "stream",
     "text": [
      "              precision    recall  f1-score   support\n",
      "\n",
      "         0.0       0.87      0.96      0.91     25054\n",
      "         1.0       0.75      0.47      0.58      6830\n",
      "\n",
      "    accuracy                           0.85     31884\n",
      "   macro avg       0.81      0.71      0.75     31884\n",
      "weighted avg       0.84      0.85      0.84     31884\n",
      "\n"
     ]
    }
   ],
   "source": [
    "#Random Forest\n",
    "print(classification_report(y_test,predictions2))"
   ]
  },
  {
   "attachments": {},
   "cell_type": "markdown",
   "metadata": {},
   "source": [
    "## 2) FINDING THE BEST MODEL BY GRIDSEARCH"
   ]
  },
  {
   "attachments": {},
   "cell_type": "markdown",
   "metadata": {},
   "source": [
    "### A- Random Forest"
   ]
  },
  {
   "cell_type": "code",
   "execution_count": 121,
   "metadata": {},
   "outputs": [
    {
     "data": {
      "text/plain": [
       "RandomizedSearchCV(cv=5, estimator=RandomForestClassifier(random_state=42),\n",
       "                   n_iter=50, n_jobs=-1,\n",
       "                   param_distributions={'max_depth': <scipy.stats._distn_infrastructure.rv_frozen object at 0x000001C806D1A280>,\n",
       "                                        'min_samples_leaf': <scipy.stats._distn_infrastructure.rv_frozen object at 0x000001C806D1A4C0>,\n",
       "                                        'min_samples_split': <scipy.stats._distn_infrastructure.rv_frozen object at 0x000001C8458DD730>,\n",
       "                                        'n_estimators': <scipy.stats._distn_infrastructure.rv_frozen object at 0x000001C8450AB550>},\n",
       "                   scoring='accuracy')"
      ]
     },
     "execution_count": 121,
     "metadata": {},
     "output_type": "execute_result"
    }
   ],
   "source": [
    "\n",
    "#This code is performing a randomized search for hyperparameter tuning of a random forest classifier using the RandomizedSearchCV \n",
    "#function from scikit-learn. The hyperparameters being tuned are n_estimators, max_depth, min_samples_split, and min_samples_leaf. \n",
    "#The search is being conducted over 50 iterations and the accuracy metric is used to evaluate the performance of each set of hyperparameters.\n",
    "\n",
    "from sklearn.ensemble import RandomForestClassifier\n",
    "from sklearn.model_selection import GridSearchCV, RandomizedSearchCV\n",
    "from scipy.stats import randint\n",
    "\n",
    "param_dist = {\n",
    "    'n_estimators': randint(50, 150),\n",
    "    'max_depth': randint(5, 20),\n",
    "    'min_samples_split': randint(2, 8),\n",
    "    'min_samples_leaf': randint(1, 3),\n",
    "}\n",
    "\n",
    "model_rf = RandomForestClassifier(random_state=42)\n",
    "\n",
    "rand_search = RandomizedSearchCV(model_rf, param_distributions=param_dist, cv=5, n_iter=50, n_jobs=-1, scoring='accuracy')\n",
    "rand_search.fit(X_train, y_train)"
   ]
  },
  {
   "attachments": {},
   "cell_type": "markdown",
   "metadata": {},
   "source": [
    "The parameter above is the best parameter for LinearDiscriminantAnalysis model, we will use it the build the model"
   ]
  },
  {
   "cell_type": "code",
   "execution_count": 129,
   "metadata": {},
   "outputs": [
    {
     "name": "stdout",
     "output_type": "stream",
     "text": [
      "Best score: 0.8538869723243897\n",
      "Best parameters: {'max_depth': 19, 'min_samples_leaf': 2, 'min_samples_split': 2, 'n_estimators': 101}\n"
     ]
    }
   ],
   "source": [
    "# Print the bext score found\n",
    "print(\"Best score:\", rand_search.best_score_)\n",
    "print(\"Best parameters:\", rand_search.best_params_)\n"
   ]
  },
  {
   "attachments": {},
   "cell_type": "markdown",
   "metadata": {},
   "source": [
    "#### B-Logistic Regression"
   ]
  },
  {
   "attachments": {},
   "cell_type": "markdown",
   "metadata": {},
   "source": [
    "a) Penalty testing - advoid overfitting"
   ]
  },
  {
   "cell_type": "code",
   "execution_count": 109,
   "metadata": {},
   "outputs": [
    {
     "name": "stdout",
     "output_type": "stream",
     "text": [
      "The best parameter is: {'alpha': 10}\n",
      "The best score for this penalty is -0.11777986012683332\n"
     ]
    }
   ],
   "source": [
    "#RIDGE REGRESSION (L2 PENALTY)\n",
    "#This code performs a grid search on a Ridge regression model with different values of the regularization parameter alpha. \n",
    "#The best value of alpha and the corresponding best score (negative mean squared error) are printed out.\n",
    "\n",
    "from sklearn.model_selection import GridSearchCV\n",
    "from sklearn.linear_model import Ridge\n",
    "ridge=Ridge()\n",
    "parameters= {'alpha':[2,4,6,8,10]}\n",
    "ridge_reg=GridSearchCV(ridge, parameters,scoring='neg_mean_squared_error',cv=10)\n",
    "ridge_reg.fit(X_train,y_train)\n",
    "print(\"The best parameter is:\",ridge_reg.best_params_)\n",
    "print(\"The best score for this penalty is\",ridge_reg.best_score_)"
   ]
  },
  {
   "cell_type": "code",
   "execution_count": 110,
   "metadata": {},
   "outputs": [
    {
     "name": "stdout",
     "output_type": "stream",
     "text": [
      "The best parameter is: {'alpha': 2}\n",
      "The best score for this penalty is:  -0.16868041982646442\n"
     ]
    }
   ],
   "source": [
    "#LASSO REGRESSION (L1 PENALTY)\n",
    "#The code performs grid search using cross-validation to find the best hyperparameters for Ridge and Lasso regression models. \n",
    "#It prints the best hyperparameters and the corresponding best score for each model.\n",
    "\n",
    "from sklearn.linear_model import Lasso\n",
    "\n",
    "parameters= {'alpha':[2,4,6,8,10]}\n",
    "\n",
    "lasso=Lasso()\n",
    "lasso_reg=GridSearchCV(lasso, param_grid=parameters, scoring='neg_mean_squared_error', cv=10)\n",
    "lasso_reg.fit(X_train,y_train)\n",
    "print(\"The best parameter is:\",lasso_reg.best_params_)\n",
    "print('The best score for this penalty is: ',lasso_reg.best_score_)"
   ]
  },
  {
   "attachments": {},
   "cell_type": "markdown",
   "metadata": {},
   "source": [
    "The above testing points out that the L2 penalty with alpha= 10 would be more effective for our model (-0.11<-0.16)"
   ]
  },
  {
   "attachments": {},
   "cell_type": "markdown",
   "metadata": {},
   "source": [
    "**b) Best parameter for Logistic Regression**"
   ]
  },
  {
   "cell_type": "code",
   "execution_count": 112,
   "metadata": {},
   "outputs": [
    {
     "name": "stdout",
     "output_type": "stream",
     "text": [
      "The best score for this model is 0.8434114855507927\n"
     ]
    }
   ],
   "source": [
    "#This code is performing a grid search to find the best hyperparameters for a logistic regression model. \n",
    "#The grid consists of three hyperparameters: penalty, C, and solver. The code then fits the logistic regression model with the\n",
    "# best hyperparameters found by the grid search, and prints the best score for the model.\n",
    "\n",
    "param_grid2 = {\n",
    "    'penalty':['l2'],\n",
    "    'C':[1.0,10.0,50.0],\n",
    "    'solver':['newton-cg', 'lbfgs', 'liblinear']\n",
    "}\n",
    "\n",
    "model_lr= LogisticRegression()\n",
    "\n",
    "grid_search2 = GridSearchCV(\n",
    "    model_lr, param_grid2, cv=10, scoring='accuracy')\n",
    "grid_search2.fit(X_train, y_train)\n",
    "print(\"The best score for this model is\",grid_search2.best_score_)"
   ]
  },
  {
   "cell_type": "markdown",
   "metadata": {},
   "source": [
    "Since 2 models: Random Forest and Logistic Regression with optimized parameter have the same best accuracy score, we can build either one of them for our prediction"
   ]
  },
  {
   "attachments": {},
   "cell_type": "markdown",
   "metadata": {},
   "source": [
    "## 3) APPLY THE BEST PARAMETERS TO THE MODEL AND TRAIN IT"
   ]
  },
  {
   "cell_type": "markdown",
   "metadata": {},
   "source": [
    "We choose Logistic Regression with L2 penalty and compatable parameter computed above"
   ]
  },
  {
   "cell_type": "code",
   "execution_count": 130,
   "metadata": {},
   "outputs": [],
   "source": [
    "# Create an instance of the algorithm using parameters\n",
    "# from best_estimator_ property\n",
    "lr = grid_search2.best_estimator_"
   ]
  },
  {
   "cell_type": "code",
   "execution_count": 131,
   "metadata": {},
   "outputs": [],
   "source": [
    "# Use the whole dataset to train the model\n",
    "X = np.append(X_train, X_test, axis=0)\n",
    "Y = np.append(y_train, y_test, axis=0)"
   ]
  },
  {
   "cell_type": "code",
   "execution_count": 132,
   "metadata": {},
   "outputs": [
    {
     "data": {
      "text/plain": [
       "LogisticRegression(C=50.0, solver='newton-cg')"
      ]
     },
     "execution_count": 132,
     "metadata": {},
     "output_type": "execute_result"
    }
   ],
   "source": [
    "# Train the model\n",
    "lr.fit(X, Y)"
   ]
  },
  {
   "attachments": {},
   "cell_type": "markdown",
   "metadata": {},
   "source": [
    "## 4) MODIFY THE THRESHOLD"
   ]
  },
  {
   "cell_type": "code",
   "execution_count": 181,
   "metadata": {},
   "outputs": [],
   "source": [
    "#Define a function to optimize the threshold\n",
    "#This is a function to optimize the threshold value for a binary classification model. \n",
    "#It takes a model as input, and returns a list of threshold values that achieve a recall of at least 0.9 and an F1 score \n",
    "#of at least 0.7 on the test data. It does this by iteratively trying threshold values between 0.01 and 1.00, calculating the confusion matrix,\n",
    "#recall, precision, and F1 score for each threshold value, and storing the threshold values that meet the criteria in a list.\n",
    "\n",
    "def optimize_threshold(model):\n",
    "    bestthresh = []\n",
    "    for i in range(1,101):\n",
    "        threshold = i/100\n",
    "        pred = np.where(model.predict_proba(X_test)[:,1] > threshold, 1, 0)\n",
    "        tn, fp, fn, tp = confusion_matrix(y_test, pred).ravel()\n",
    "        recall = tp / (tp + fn)\n",
    "        precision = tp / (tp + fp)\n",
    "        f1 = (2*recall*precision)/(recall+precision)\n",
    "        if recall>=0.9 and f1>=0.7:\n",
    "            bestthresh.append(threshold)\n",
    "    return bestthresh"
   ]
  },
  {
   "attachments": {},
   "cell_type": "markdown",
   "metadata": {},
   "source": [
    "This function will return a list of best thresholds for our model. We want to obtain only threshold with recall >=0.9 and f1 >=0.7, which can not only maximize the recall, minimize the False Negative problem, but also balance the interrelation between recall and precision"
   ]
  },
  {
   "cell_type": "code",
   "execution_count": null,
   "metadata": {},
   "outputs": [
    {
     "name": "stdout",
     "output_type": "stream",
     "text": [
      "Logistic Regression\n"
     ]
    },
    {
     "data": {
      "text/plain": [
       "(0.31, 0.6150117712228222)"
      ]
     },
     "execution_count": 182,
     "metadata": {},
     "output_type": "execute_result"
    }
   ],
   "source": [
    "# print('Logistic Regression')\n",
    "# optimize_threshold(lr)\n",
    "#The optimize_threshold() function takes a model as input, fits the model on the training data, predicts probabilities on the test data, \n",
    "#loops over different threshold values to calculate performance metrics, and returns the best threshold and F1 score. \n",
    "#The code then applies the optimize_threshold() function to the lr logistic regression model and prints the best threshold and F1 score.\n",
    "\n",
    "\n",
    "def optimize_threshold(model):\n",
    "    # fit the model on training data\n",
    "    model.fit(X_train, y_train)\n",
    "    \n",
    "    # predict probabilities on test data\n",
    "    y_pred_prob = model.predict_proba(X_test)[:, 1]\n",
    "    \n",
    "    # loop over different threshold values and calculate performance metrics\n",
    "    best_threshold = 0\n",
    "    best_f1 = 0\n",
    "    for threshold in np.arange(0, 1.01, 0.01):\n",
    "        y_pred = (y_pred_prob >= threshold).astype(int)\n",
    "        tn, fp, fn, tp = confusion_matrix(y_test, y_pred).ravel()\n",
    "        precision = tp / (tp + fp) if tp + fp > 0 else np.nan\n",
    "        recall = tp / (tp + fn)\n",
    "        f1 = 2 * precision * recall / (precision + recall) if precision + recall > 0 else np.nan\n",
    "        if f1 > best_f1:\n",
    "            best_f1 = f1\n",
    "            best_threshold = threshold\n",
    "            \n",
    "    # return the best threshold and F1 score\n",
    "    return best_threshold, best_f1\n",
    "\n",
    "print('Logistic Regression')\n",
    "optimize_threshold(lr)\n",
    "\n",
    "\n"
   ]
  },
  {
   "cell_type": "code",
   "execution_count": 183,
   "metadata": {
    "scrolled": true
   },
   "outputs": [
    {
     "name": "stdout",
     "output_type": "stream",
     "text": [
      "Random Forest\n"
     ]
    },
    {
     "data": {
      "text/plain": [
       "(0.34, 0.6470872113064461)"
      ]
     },
     "execution_count": 183,
     "metadata": {},
     "output_type": "execute_result"
    }
   ],
   "source": [
    "print('Random Forest')\n",
    "optimize_threshold(rf)"
   ]
  },
  {
   "attachments": {},
   "cell_type": "markdown",
   "metadata": {},
   "source": [
    "From the result, we can see optimized thresholds are 0.31 and 0.34 for Logistic Regression and Random Forest respectively. Then if the probability belongs to '1' class is larger than 0.31 for Linear Regression model and 0.34 for Random Forest model, then it is predicted to be raining in the next day."
   ]
  },
  {
   "attachments": {},
   "cell_type": "markdown",
   "metadata": {},
   "source": [
    "# V) MAKE PREDICTIONS"
   ]
  },
  {
   "cell_type": "code",
   "execution_count": null,
   "metadata": {},
   "outputs": [
    {
     "name": "stderr",
     "output_type": "stream",
     "text": [
      "C:\\Users\\Thai\\anaconda3\\lib\\site-packages\\sklearn\\base.py:450: UserWarning: X does not have valid feature names, but StandardScaler was fitted with feature names\n",
      "  warnings.warn(\n"
     ]
    }
   ],
   "source": [
    "#This code creates a new DataFrame called new_data containing a row of randomly generated numbers between 0 and 1 with a length equal to the \n",
    "#Then, it scales the values in new_data using the scaler object created earlier and stores the \n",
    "#result in a new DataFrame called new_data_scaled.\n",
    "\n",
    "# We create a new (fake) person information\n",
    "new_data = pd.DataFrame([[-1.531666, 0.189757, -0.044575, -0.203581, -0.119472, 0.14871, 1.045228, 0.307739, 1.328766, 1.366458, 0.111308, -1.443652, 0.111308, -1.443652, -1.478015, -1.223012, 1.464068, 0.137693, -0.013506, 0.019135, -0.529795]])\n",
    "\n",
    "# We scale those values like the others\n",
    "new_data_scaled = new_scaler.fit_transform(new_data)"
   ]
  },
  {
   "cell_type": "code",
   "execution_count": 177,
   "metadata": {},
   "outputs": [],
   "source": [
    "# We modify the threshold\n",
    "prediction = rf.predict_proba(new_data_scaled)[:,1]\n",
    "prediction"
   ]
  },
  {
   "cell_type": "code",
   "execution_count": 178,
   "metadata": {},
   "outputs": [
    {
     "name": "stdout",
     "output_type": "stream",
     "text": [
      "It is not raining tomorrow\n"
     ]
    }
   ],
   "source": [
    "# A value of \"1\" means that itis likely to rain\n",
    "if prediction > 0.31:\n",
    "    print(\"It is raining tomorrow\")\n",
    "else:\n",
    "    print(\"It is not raining tomorrow\")\n",
    "\n",
    "#We use Linear Regression model in this case"
   ]
  },
  {
   "attachments": {},
   "cell_type": "markdown",
   "metadata": {},
   "source": [
    "Prediction points out that with information:\n",
    "<br><br>\n",
    "(-1.531666, 0.189757, -0.044575, -0.203581, -0.119472, 0.14871, 1.045228, 0.307739, 1.328766, 1.366458, 0.111308, -1.443652, 0.111308, -1.443652, -1.478015, -1.223012, 1.464068, 0.137693, -0.013506, 0.019135, -0.529795)\n",
    "<br><br>\n",
    " (Location| MinTemp| MaxTemp| Rainfall| Evaporation| Sunshine| WindGustDir| WindGustSpeed| WindDir9am| WindDir3pm| WindSpeed9am| WindSpeed3pm| Humidity9am| Humidity3pm| Pressure9am| Pressure3pm| Cloud9am| Cloud3pm| Temp9am| Temp3pm| RainToday) \n",
    " <br><br>\n",
    " is predicted 'not raining' towards 'RainTomorrow'"
   ]
  },
  {
   "cell_type": "code",
   "execution_count": 179,
   "metadata": {},
   "outputs": [],
   "source": [
    "#Define a function using the logic above for quicker and more convenient prediction:\n",
    "def prediction(data):\n",
    "    data_scaled=scaler.transform(data)\n",
    "    predict=lr.predict_proba(data_scaled)[:,1]\n",
    "    if predict > 0.33:\n",
    "        print(\"It is raining tomorrow\")\n",
    "    else:\n",
    "        print(\"It is not raining tomorrow\")"
   ]
  },
  {
   "attachments": {},
   "cell_type": "markdown",
   "metadata": {},
   "source": [
    "\n",
    "***Warning: The data passed in the function defined has to be a dataframe***\n"
   ]
  },
  {
   "cell_type": "markdown",
   "metadata": {},
   "source": [
    "Let's check again with data of another person, using our function:"
   ]
  },
  {
   "cell_type": "code",
   "execution_count": 180,
   "metadata": {},
   "outputs": [
    {
     "name": "stdout",
     "output_type": "stream",
     "text": [
      "It is raining tomorrow\n"
     ]
    },
    {
     "name": "stderr",
     "output_type": "stream",
     "text": [
      "C:\\Users\\Thai\\anaconda3\\lib\\site-packages\\sklearn\\base.py:450: UserWarning: X does not have valid feature names, but StandardScaler was fitted with feature names\n",
      "  warnings.warn(\n"
     ]
    }
   ],
   "source": [
    "data= pd.DataFrame([np.random.uniform(0,1,len(rain_scaled_df.columns)-1)])\n",
    "prediction(data)"
   ]
  },
  {
   "cell_type": "markdown",
   "metadata": {},
   "source": [
    "Our prediction model points out that this red with information: (6, 168, 72, 35, 0, 43.6, 0.627, 65) (Pregnancy= 6 times, Glucose level= 168mg/dL, BloodPressure= 72mmHg, SkinThickness =35mm, Insulin level= 0mIU/L, BMI= 43.6, Age= 65 years, DiabetesPedigreeFunction= 0.627) is diagnosed 'negative' towards type II diabetes"
   ]
  },
  {
   "cell_type": "markdown",
   "metadata": {},
   "source": [
    "# VI) CONCLUSION"
   ]
  },
  {
   "cell_type": "markdown",
   "metadata": {},
   "source": [
    "We finally find a score of 80.3% using Logistic Regression algorithm with Ridge Penalty and parameters optimisation. Please note that there may be still space for further analysis and optimisation. Training a machine learning model to solve a problem with a specific dataset is a test/fail/improve process. And according to our knowledge in Data Science subject until now, this is the best model achieved."
   ]
  },
  {
   "attachments": {},
   "cell_type": "markdown",
   "metadata": {},
   "source": [
    "# RESOURCES"
   ]
  },
  {
   "attachments": {},
   "cell_type": "markdown",
   "metadata": {},
   "source": [
    "Below is the resources that we've been using during the project."
   ]
  },
  {
   "attachments": {},
   "cell_type": "markdown",
   "metadata": {},
   "source": [
    "[1] Title: Weather Dataset (Rattle Package)\n",
    "URL: https://www.kaggle.com/datasets/jsphyg/weather-dataset-rattle-package\n",
    "Publisher: Kaggle"
   ]
  },
  {
   "attachments": {},
   "cell_type": "markdown",
   "metadata": {},
   "source": [
    "[2] Title: Practical Guide to 6 Classification Algorithms\n",
    "URL: https://www.kaggle.com/code/faressayah/practical-guide-to-6-classification-algorithms#%F0%9F%94%8D-Exploratory-Data-Analysis-(EDA)\n",
    "Publisher: Kaggle\n",
    "Author: Faress Ayah"
   ]
  },
  {
   "attachments": {},
   "cell_type": "markdown",
   "metadata": {},
   "source": [
    "[3] https://pandas.pydata.org"
   ]
  },
  {
   "attachments": {},
   "cell_type": "markdown",
   "metadata": {},
   "source": [
    "[4] https://scikit-learn.org/stable/"
   ]
  },
  {
   "attachments": {},
   "cell_type": "markdown",
   "metadata": {},
   "source": [
    "[5] https://numpy.org/"
   ]
  },
  {
   "cell_type": "markdown",
   "metadata": {},
   "source": []
  },
  {
   "cell_type": "markdown",
   "metadata": {},
   "source": []
  },
  {
   "cell_type": "markdown",
   "metadata": {},
   "source": [
    "4) https://www.datacamp.com"
   ]
  },
  {
   "attachments": {},
   "cell_type": "markdown",
   "metadata": {},
   "source": [
    "# ***THANK YOU FOR PAYING ATTENTION***"
   ]
  }
 ],
 "metadata": {
  "kernelspec": {
   "display_name": "Python 3 (ipykernel)",
   "language": "python",
   "name": "python3"
  },
  "language_info": {
   "codemirror_mode": {
    "name": "ipython",
    "version": 3
   },
   "file_extension": ".py",
   "mimetype": "text/x-python",
   "name": "python",
   "nbconvert_exporter": "python",
   "pygments_lexer": "ipython3",
   "version": "3.9.12"
  }
 },
 "nbformat": 4,
 "nbformat_minor": 2
}
