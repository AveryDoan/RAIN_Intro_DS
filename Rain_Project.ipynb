print("Hello World")
print("Deo")
